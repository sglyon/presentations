{
 "cells": [
  {
   "cell_type": "markdown",
   "metadata": {
    "slideshow": {
     "slide_type": "slide"
    }
   },
   "source": [
    "## Function approximation with CompEcon\n",
    "\n",
    "\n",
    "**Spencer Lyon, NYU Economics**\n",
    "\n",
    "*Date: 6-25-15*"
   ]
  },
  {
   "cell_type": "markdown",
   "metadata": {
    "slideshow": {
     "slide_type": "slide"
    }
   },
   "source": [
    "### What is CompEcon?\n",
    "\n",
    "- Matlab is the language of choice for many economic researchers\n",
    "- `CompEcon` is a popular (amongst economists) Matlab library for computational library that accompanies the book\n",
    "> Miranda, Mario J, and Paul L Fackler. Applied Computational Economics and Finance, MIT Press, 2002.\n",
    "- Many of my colleagues mention they would like to move on from Matlab, but can't because they rely on CompEcon\n",
    "- Main concern is abandoning the CompEcon toolkit for function approximation and interpolation"
   ]
  },
  {
   "cell_type": "markdown",
   "metadata": {
    "slideshow": {
     "slide_type": "subslide"
    }
   },
   "source": [
    "### Features of CompEcon interpolation\n",
    "\n",
    "- Arbitrary number of dimensions using sparse matrices and tensor product basis\n",
    "- Arbitrary order of derivative and integral operators\n",
    "- Arbitrary order B-spline, Chebyshev polynomial, and piecewise linear basis functions -- with the ability to mix and match families across dimensions"
   ]
  },
  {
   "cell_type": "markdown",
   "metadata": {
    "slideshow": {
     "slide_type": "slide"
    }
   },
   "source": [
    "### Interpolation theory\n",
    "\n",
    "Interpolation in CompEcon is built around three key constructs"
   ]
  },
  {
   "cell_type": "markdown",
   "metadata": {
    "slideshow": {
     "slide_type": "subslide"
    }
   },
   "source": [
    "1) A functional `Basis`: for each dimension, the basis specifies:\n",
    "\n",
    "- family of basis function (B spline, Chebyshev polynomials, ect.)\n",
    "- domain (bounds)\n",
    "- interpolation nodes (grid on domain)"
   ]
  },
  {
   "cell_type": "markdown",
   "metadata": {
    "slideshow": {
     "slide_type": "fragment"
    }
   },
   "source": [
    "2) A `BasisStructure` representation:\n",
    "\n",
    "- Represents the evaluation of basis functions at the interpolation nodes\n",
    "- Constructed one dimension at a time, then combined with tensor product"
   ]
  },
  {
   "cell_type": "markdown",
   "metadata": {
    "slideshow": {
     "slide_type": "fragment"
    }
   },
   "source": [
    "3) A coefficient vector: used to map from domain of the `Basis` into real line"
   ]
  },
  {
   "cell_type": "markdown",
   "metadata": {
    "slideshow": {
     "slide_type": "slide"
    }
   },
   "source": [
    "### Theory ⟶ types\n",
    "\n",
    "- Julia version of CompEcon routines maps these theoretical constructs into a family of types."
   ]
  },
  {
   "cell_type": "markdown",
   "metadata": {
    "slideshow": {
     "slide_type": "fragment"
    }
   },
   "source": [
    "- First group of types help represent the `Basis`\n",
    "    - `abstract BasisFamily`: type of basis functions\n",
    "    - `abstract BasisParams`: fields are all info needed to construct univariate basis\n",
    "    - `immutable Basis{N}`: fields are family, domain, number of basis functions for `N` dimensions"
   ]
  },
  {
   "cell_type": "markdown",
   "metadata": {
    "slideshow": {
     "slide_type": "subslide"
    }
   },
   "source": [
    "- Second group represents the `BasisStructure` representation\n",
    "    - `abstract AbstractBasisStructureRep`: groups type of representation (`Tensor`, `Direct`, `Expanded`)\n",
    "    - `immutable BasisStructure{BST<:AbstractBasisStructureRep}`: "
   ]
  },
  {
   "cell_type": "markdown",
   "metadata": {
    "slideshow": {
     "slide_type": "fragment"
    }
   },
   "source": [
    "- Last type is `immutable Interpoland`: holds coefficients and basis"
   ]
  },
  {
   "cell_type": "markdown",
   "metadata": {
    "slideshow": {
     "slide_type": "slide"
    }
   },
   "source": [
    "### Implementation\n",
    "\n",
    "- View [original Matlab](https://github.com/spencerlyon2/CompEcon.jl/tree/master/CompEcon2014/CEtools)\n",
    "- View [direct Julia translation](https://github.com/spencerlyon2/CompEcon.jl/blob/master/src/original/core.jl)\n",
    "- View [Julian api](https://github.com/spencerlyon2/CompEcon.jl/tree/master/src)"
   ]
  },
  {
   "cell_type": "markdown",
   "metadata": {
    "collapsed": true,
    "slideshow": {
     "slide_type": "slide"
    }
   },
   "source": [
    "Thank you!"
   ]
  },
  {
   "cell_type": "code",
   "execution_count": null,
   "metadata": {
    "collapsed": true
   },
   "outputs": [],
   "source": []
  }
 ],
 "metadata": {
  "celltoolbar": "Slideshow",
  "kernelspec": {
   "display_name": "Julia 0.4.0-dev",
   "language": "julia",
   "name": "julia-0.4"
  },
  "language_info": {
   "name": "julia",
   "version": "0.4.0"
  }
 },
 "nbformat": 4,
 "nbformat_minor": 0
}
