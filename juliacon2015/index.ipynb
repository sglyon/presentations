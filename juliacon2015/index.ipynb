{
 "cells": [
  {
   "cell_type": "markdown",
   "metadata": {},
   "source": [
    "> An economic model is a probability distribution over outcomes.\n",
    ">\n",
    "> -- <cite>[Thomas Sargent](http://econ.as.nyu.edu/object/TomSargentTribute)</cite>\n",
    "\n",
    "* Mathematical Model\n",
    "    * Parameters\n",
    "    * Optimization conditions\n",
    "    * Description of stochastic processes\n",
    "* "
   ]
  },
  {
   "cell_type": "code",
   "execution_count": null,
   "metadata": {
    "collapsed": true
   },
   "outputs": [],
   "source": []
  }
 ],
 "metadata": {
  "celltoolbar": "Slideshow",
  "kernelspec": {
   "display_name": "Julia 0.4.0-dev",
   "language": "julia",
   "name": "julia-0.4"
  },
  "language_info": {
   "name": "julia",
   "version": "0.4.0"
  }
 },
 "nbformat": 4,
 "nbformat_minor": 0
}
