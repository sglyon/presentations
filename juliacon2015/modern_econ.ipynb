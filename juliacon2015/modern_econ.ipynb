{
 "cells": [
  {
   "cell_type": "markdown",
   "metadata": {
    "slideshow": {
     "slide_type": "slide"
    }
   },
   "source": [
    "## Features of modern (macro)economic models\n",
    "\n",
    "> An economic model is a probability distribution over outcomes\n",
    ">\n",
    "> -- <cite>Tom Sargent</cite>\n",
    "\n",
    "**Spencer Lyon, NYU Economics**\n",
    "\n",
    "*Date: 6-25-15*"
   ]
  },
  {
   "cell_type": "markdown",
   "metadata": {
    "slideshow": {
     "slide_type": "slide"
    }
   },
   "source": [
    "- Economic models used to be cute -- solvable via pen and paper\n",
    "- Elegant theoretical models with nice, closed-form solutions provide a solid theoretical framework for modern extensions\n",
    "- Models with _interesting_ and _novel_ extensions are accompanied by serious computational difficulties\n",
    "- I'll try to describe the landscape of current macroeconomic modeling, as I percieve it"
   ]
  },
  {
   "cell_type": "markdown",
   "metadata": {
    "slideshow": {
     "slide_type": "slide"
    }
   },
   "source": [
    "### Model features\n",
    "\n",
    "- Dynamic: choice of current period controls impact tomorrow's opportunities"
   ]
  },
  {
   "cell_type": "markdown",
   "metadata": {
    "slideshow": {
     "slide_type": "fragment"
    }
   },
   "source": [
    "- Stochastic: agents face uncertainy, we need to take expectations seriously"
   ]
  },
  {
   "cell_type": "markdown",
   "metadata": {
    "slideshow": {
     "slide_type": "fragment"
    }
   },
   "source": [
    "- General: model both supply and demand side of economy -- prices need to clear markets"
   ]
  },
  {
   "cell_type": "markdown",
   "metadata": {
    "slideshow": {
     "slide_type": "fragment"
    }
   },
   "source": [
    "- Recursive: value of agent being in a particular state of the world today is a function of _the agent's_ expected value tomorrow"
   ]
  },
  {
   "cell_type": "markdown",
   "metadata": {
    "slideshow": {
     "slide_type": "fragment"
    }
   },
   "source": [
    "- Constrained: Well of utility from frictionless models of unconstrained agents is nearly running dry. Adding frictions drastically increases **both** the model's ability to match real world data **and** computational difficulty"
   ]
  },
  {
   "cell_type": "markdown",
   "metadata": {
    "slideshow": {
     "slide_type": "slide"
    }
   },
   "source": [
    "### Common tools\n",
    "\n",
    "- Parameter estimation and inference (GMM, MCMC, entire field of econometrics)\n",
    "- Function approximation and interpolation\n",
    "- Optimization and root finding\n",
    "- Stochastic simulation (either as part of solution algorithm or for doing post-solving sensitivity analysis)"
   ]
  },
  {
   "cell_type": "markdown",
   "metadata": {
    "slideshow": {
     "slide_type": "slide"
    }
   },
   "source": [
    "### Algorithm characteristics\n",
    "\n",
    "- Three classes of solution method: projection, stochastic simulation, perturbation\n",
    "- Iterative -- almost always searching for a fixed point (e.g. outer loop for prices, inner loop for VFI/PFI) or simulating (simulate solution, MCMC)\n",
    "- Discretize state space, then loop over points. Many states often requires many loops (this is where Julia's performance helps)."
   ]
  },
  {
   "cell_type": "markdown",
   "metadata": {
    "slideshow": {
     "slide_type": "slide"
    }
   },
   "source": [
    "### So What?\n",
    "\n",
    "- What does all this mean?"
   ]
  },
  {
   "cell_type": "markdown",
   "metadata": {
    "slideshow": {
     "slide_type": "fragment"
    }
   },
   "source": [
    "- Now, more than ever, economists are searching for and using cutting edge technology and software to do their work"
   ]
  },
  {
   "cell_type": "markdown",
   "metadata": {
    "slideshow": {
     "slide_type": "fragment"
    }
   },
   "source": [
    "- Perfect storm of circumstance for collaboration between Julia and economics communities."
   ]
  },
  {
   "cell_type": "markdown",
   "metadata": {
    "slideshow": {
     "slide_type": "slide"
    }
   },
   "source": [
    "- Now we look at one set of the more extensive tools I'm building to help economists enter the Julia community\n",
    "- Move to [CompEcon example](CompEcon.ipynb)"
   ]
  },
  {
   "cell_type": "code",
   "execution_count": null,
   "metadata": {
    "collapsed": true
   },
   "outputs": [],
   "source": []
  }
 ],
 "metadata": {
  "celltoolbar": "Slideshow",
  "kernelspec": {
   "display_name": "Python 2",
   "language": "python",
   "name": "python2"
  },
  "language_info": {
   "codemirror_mode": {
    "name": "ipython",
    "version": 2
   },
   "file_extension": ".py",
   "mimetype": "text/x-python",
   "name": "python",
   "nbconvert_exporter": "python",
   "pygments_lexer": "ipython2",
   "version": "2.7.10"
  }
 },
 "nbformat": 4,
 "nbformat_minor": 0
}
