{
 "cells": [
  {
   "cell_type": "markdown",
   "metadata": {
    "internals": {
     "slide_type": "subslide"
    },
    "slideshow": {
     "slide_type": "slide"
    }
   },
   "source": [
    "# Distributed Value Function Iteration\n",
    "\n",
    "Presented by Spencer Lyon"
   ]
  },
  {
   "cell_type": "markdown",
   "metadata": {
    "internals": {
     "frag_number": 1,
     "slide_helper": "subslide_end"
    },
    "slide_helper": "slide_end",
    "slideshow": {
     "slide_type": "fragment"
    }
   },
   "source": [
    "**Outline**:\n",
    "\n",
    "* Dynamic programming basics\n",
    "* Theoretical extension\n",
    "* Computational Implementation"
   ]
  },
  {
   "cell_type": "markdown",
   "metadata": {
    "collapsed": true,
    "internals": {
     "frag_helper": "fragment_end",
     "frag_number": 1,
     "slide_helper": "subslide_end",
     "slide_type": "subslide"
    },
    "slide_helper": "subslide_end",
    "slideshow": {
     "slide_type": "slide"
    }
   },
   "source": [
    "## Dynamic Programming Basics\n",
    "\n",
    "> An optimal policy has the property that, whatever the initial state and decision [i.e. control] are, the remaining decisions must constitute an optimal policy with regard to the state resulting from the first decision. (Bellman, 1957)"
   ]
  },
  {
   "cell_type": "markdown",
   "metadata": {
    "internals": {
     "frag_helper": "fragment_end",
     "frag_number": 1,
     "slide_helper": "subslide_end",
     "slide_type": "subslide"
    },
    "slide_helper": "subslide_end",
    "slideshow": {
     "slide_type": "subslide"
    }
   },
   "source": [
    "### Contraction Mapping Theorem\n",
    "\n",
    "Definition of contraction mapping: \n",
    "\n",
    "> Let $(S, \\rho)$ be a metric space and $T: S \\rightarrow S$ be a function mapping $S$ into itself. $T$ is a contraction mapping (with modulus $\\beta$) if for some $\\beta \\in (0, 1)$, $\\rho(Tx, Ty) \\le \\beta \\rho(x, y), \\; \\forall x, y \\in S$"
   ]
  },
  {
   "cell_type": "markdown",
   "metadata": {
    "internals": {
     "frag_helper": "fragment_end",
     "frag_number": 1,
     "slide_type": "subslide"
    },
    "slideshow": {
     "slide_type": "subslide"
    }
   },
   "source": [
    "Contraction mapping Theorem:\n",
    "\n",
    ">If $(S, \\rho)$ is a complete metric space and $T: S \\rightarrow S$ is a contraction mapping with modulus $\\beta$, then\n",
    "> 1. $T$ has exactly one fixed point $v \\in S$\n",
    "> 2. for any $v_0 \\in S, \\; \\rho(T^n, v_0, v) \\le \\beta^n \\rho(v_0, v)$ where $T^n$ is equal to $T$ applied $n$ times.\n"
   ]
  },
  {
   "cell_type": "markdown",
   "metadata": {
    "internals": {
     "frag_helper": "fragment_end",
     "frag_number": 5,
     "slide_helper": "subslide_end"
    },
    "slide_helper": "subslide_end",
    "slideshow": {
     "slide_type": "fragment"
    }
   },
   "source": [
    "Corollary:\n",
    "\n",
    "> If $S'$ is a closed subset of $S$, such that $TS' \\subseteq S'$, then $v \\in S'$. If in addition, $TS' \\subseteq S'' \\subset S'$ then $v \\in S''$"
   ]
  },
  {
   "cell_type": "markdown",
   "metadata": {
    "internals": {
     "frag_helper": "fragment_end",
     "frag_number": 5,
     "slide_helper": "subslide_end",
     "slide_type": "subslide"
    },
    "slide_helper": "subslide_end",
    "slideshow": {
     "slide_type": "subslide"
    }
   },
   "source": [
    "### Blackwell's Theorem\n",
    "\n",
    "Theorem:\n",
    "\n",
    "\n",
    "> Let $X \\subseteq \\mathbb{R}^l$ and let $B(X)$ be the space of bounded functions $f:X \\rightarrow \\mathbb{R}$ with the sup norm. Let $T: B(X) \\rightarrow BI(X)$. $T$ is a contraction mapping if it satisfies the following:\n",
    "> 1. **Monotonicity:** $f, g \\in B(X)$ and $f(x) \\le g(x) \\; \\forall x \\in X $ implies that $Tf(x) \\le T g(x)\\; \\forall x \\in X$\n",
    "> 2. **Discounting:** There exists some $\\beta \\in (0, 1)$ such that $[T(f + a)](x) \\le (Tf)(x)  + \\beta a \\; \\forall f \\in B(X), a \\ge 0, x \\in X$"
   ]
  },
  {
   "cell_type": "markdown",
   "metadata": {
    "internals": {
     "frag_helper": "fragment_end",
     "frag_number": 5,
     "slide_helper": "subslide_end",
     "slide_type": "subslide"
    },
    "slide_helper": "subslide_end",
    "slideshow": {
     "slide_type": "subslide"
    }
   },
   "source": [
    "### Example -- Neoclassical growth model\n",
    "\n",
    "#### Household problem\n",
    "\n",
    "* Time is discrete: $t = 0, 1, \\dots$\n",
    "* In each period $t$, Consumers must split current wealth between\n",
    "    * Consumption in current period: $c_t$\n",
    "    * Investment in risky captial to be part of wealth tomorrow: $k_{t+1}$\n",
    "* Captial saved in period $t$ ($k_{t+1}$) earns a rate of return $r_t$ and depreciates at a rate $\\delta$\n",
    "* Households order non-negative streams of consumption according to\n",
    "$$\n",
    "\\sum_{t=0}^{\\infty} \\beta^t U(c_t), \\beta \\in (0, 1), \\text{ where}\n",
    "$$\n",
    "* $U(x) = \\frac{x^{1 -\\gamma}}{1 - \\gamma}$"
   ]
  },
  {
   "cell_type": "markdown",
   "metadata": {
    "slideshow": {
     "slide_type": "subslide"
    }
   },
   "source": [
    "#### Firm Problem\n",
    "\n",
    "* A representative firm uses captial as input and produces consumption/savings good (all goods in units of consumption)\n",
    "* Must pay a rental rate $r$ for each unit of capital\n",
    "* Solves static problem to maximize revenue less cost:\n",
    "$$\\max_{k} F(k) - r k$$\n",
    "* Solution pins down interest rate:\n"
   ]
  },
  {
   "cell_type": "markdown",
   "metadata": {
    "internals": {
     "frag_helper": "fragment_end",
     "frag_number": 5,
     "slide_type": "subslide"
    },
    "slideshow": {
     "slide_type": "subslide"
    }
   },
   "source": [
    "Applying Bellman's principle of optimality we can write these preferences recursively:\n",
    "\n",
    "$$V(k_t) = \\max_{c_t, k_{t+1}} u(c_t)  + \\beta V(k_{t+1}) $$"
   ]
  },
  {
   "cell_type": "markdown",
   "metadata": {
    "internals": {
     "frag_helper": "fragment_end",
     "frag_number": 9,
     "slide_helper": "subslide_end"
    },
    "slide_helper": "subslide_end",
    "slideshow": {
     "slide_type": "fragment"
    }
   },
   "source": [
    "* Solution approach is value function iteration (fixed point)\n",
    "* Works when natural operator (taking V to V) is a contraction mapping\n",
    "* Question: How to prove that this is a contraction mapping?"
   ]
  },
  {
   "cell_type": "markdown",
   "metadata": {
    "internals": {
     "frag_helper": "fragment_end",
     "frag_number": 9,
     "slide_helper": "subslide_end",
     "slide_type": "subslide"
    },
    "slide_helper": "slide_end",
    "slideshow": {
     "slide_type": "subslide"
    }
   },
   "source": [
    "#### Applying Blackwell's conditions\n",
    "\n",
    "* Let $V \\in B(R)$ and define a map $T: B->B$ by:\n",
    "$$T V = \\max_{c, k} u(c) + \\beta V(k)$$\n",
    "* Need to show monotonicty and discounting:\n",
    "    * Monotonicity: Let $f, g, \\in B(R)$ such that $\\forall x \\in R, f(x) \\le g(x)$. Then \n",
    "    $$Tf = \\max_{c,k} u(c) + \\beta f(k) \\le \\max_{c, k} u(c) + \\beta g(k) = T g \\blacksquare$$\n",
    "    * Discounting: Let $f \\in B(R)$ and $a \\ge 0$. then \n",
    "    $$ [T(f + a)](x) = \\max_{c, k} u(c) + \\beta [f(k) + a) = \\max_{c, k} u(c) + \\beta f(k) + \\beta a = Tf + \\beta a \\blacksquare$$\n",
    "* So, by Blackwell's theorem $T$ is a contraction mapping\n",
    "* Can now apply standard discritize and iterate algorithm"
   ]
  },
  {
   "cell_type": "markdown",
   "metadata": {
    "collapsed": true,
    "internals": {
     "frag_helper": "fragment_end",
     "frag_number": 9,
     "slide_helper": "subslide_end",
     "slide_type": "subslide"
    },
    "slide_helper": "subslide_end",
    "slideshow": {
     "slide_type": "slide"
    }
   },
   "source": [
    "## Extension: Distributed VFI\n",
    "\n",
    "* Value function iteration (VFI) is a widely applicable solution method\n",
    "* Hinges on established theory of contraction mapping\n",
    "* Applicable to many dynamic macroeconomic models. \n",
    "* But, it is relatively inefficient -- converges at a rate bound by model parameter $\\beta$"
   ]
  },
  {
   "cell_type": "markdown",
   "metadata": {
    "internals": {
     "frag_helper": "fragment_end",
     "frag_number": 9,
     "slide_helper": "subslide_end",
     "slide_type": "subslide"
    },
    "slide_helper": "subslide_end",
    "slideshow": {
     "slide_type": "subslide"
    }
   },
   "source": [
    "### Alternatives to VFI\n",
    "\n",
    "* Under certain conditions, more efficient algorithms exist:\n",
    "    * Policy function iteration: iterate directly on function defining optimal control, instead of optimal value\n",
    "    * Endogenously update grid points each iteration (cuts root finding step from many problems)\n",
    "    * Simulation based methods (potentially more efficient depending on dimensionality and composition of state space)\n",
    "    * Perturbation methods\n",
    "* Problems with these methods: \n",
    "    * Usually more technical\n",
    "    * Usually less widely applicable\n",
    " "
   ]
  },
  {
   "cell_type": "markdown",
   "metadata": {
    "internals": {
     "frag_helper": "fragment_end",
     "frag_number": 9,
     "slide_type": "subslide"
    },
    "slideshow": {
     "slide_type": "subslide"
    }
   },
   "source": [
    "### More efficient VFI\n",
    "\n",
    "* Instead of a different algorithm, I propose a more efficient implementation\n",
    "* Distribute the value function across multiple processes\n",
    "* Sketch of basic algorithm:\n",
    "    1. Discretize state space and choose a number of processes\n",
    "    2. Scatter initial guess for value function equally across processes\n",
    "    3. Have each process do one iteration of updating their section of value function \n",
    "    4. On root process, father entire value function at end of each iteration. Check convergence, update user\n",
    "    5. Re-scatter value function and proceed with next iteration"
   ]
  },
  {
   "cell_type": "code",
   "execution_count": null,
   "metadata": {
    "collapsed": true,
    "internals": {
     "frag_helper": "fragment_end",
     "frag_number": 9,
     "slide_helper": "subslide_end"
    },
    "slide_helper": "slide_end",
    "slideshow": {
     "slide_type": "-"
    }
   },
   "outputs": [],
   "source": []
  }
 ],
 "metadata": {
  "celltoolbar": "Slideshow",
  "kernelspec": {
   "display_name": "Python 2",
   "language": "python",
   "name": "python2"
  },
  "language_info": {
   "codemirror_mode": {
    "name": "ipython",
    "version": 2
   },
   "file_extension": ".py",
   "mimetype": "text/x-python",
   "name": "python",
   "nbconvert_exporter": "python",
   "pygments_lexer": "ipython2",
   "version": "2.7.9"
  }
 },
 "nbformat": 4,
 "nbformat_minor": 0
}
