{
 "cells": [
  {
   "cell_type": "markdown",
   "metadata": {
    "internals": {
     "slide_helper": "subslide_end",
     "slide_type": "subslide"
    },
    "slide_helper": "slide_end",
    "slideshow": {
     "slide_type": "slide"
    }
   },
   "source": [
    "## CompEcon in Julia\n",
    "\n",
    "**Spencer Lyon**\n",
    "\n",
    "*Date: 4-23-15*"
   ]
  },
  {
   "cell_type": "markdown",
   "metadata": {
    "internals": {
     "slide_type": "subslide"
    },
    "slideshow": {
     "slide_type": "slide"
    }
   },
   "source": [
    "## Intro\n",
    "\n",
    "The [CompEcon toolbox](http://www4.ncsu.edu/~pfackler/compecon/toolbox.html) is a collection of Matlab routines written to accompany the book \"Applied Computational Economics and Finance, Mario J. Miranda & Paul L. Fackler, MIT Press\""
   ]
  },
  {
   "cell_type": "markdown",
   "metadata": {
    "internals": {
     "frag_number": 2,
     "slide_helper": "subslide_end"
    },
    "slide_helper": "subslide_end",
    "slideshow": {
     "slide_type": "fragment"
    }
   },
   "source": [
    "Has fairly comprehensive routines for:\n",
    "\n",
    "- Quadrature\n",
    "- Function approximation\n",
    "- Optimization\n",
    "- Solving dynamic economic problems\n",
    "- Implementations of classic economic models"
   ]
  },
  {
   "cell_type": "markdown",
   "metadata": {
    "internals": {
     "frag_helper": "fragment_end",
     "frag_number": 2,
     "slide_type": "subslide"
    },
    "slideshow": {
     "slide_type": "subslide"
    }
   },
   "source": [
    "Very popular among the economists that I know who use Matlab, espeically the function approximation components\n",
    "\n",
    "So, I implemented a Julia version of the quadrature and function approximation components (quadrature lives in [QuantEcon.jl](https://github.com/QuantEcon/QuantEcon.jl/blob/master/src/quad.jl) and function approximation temporarily lives in [CompEcon.jl](https://github.com/spencerlyon2/CompEcon.jl))"
   ]
  },
  {
   "cell_type": "markdown",
   "metadata": {
    "internals": {
     "frag_helper": "fragment_end",
     "frag_number": 4,
     "slide_helper": "subslide_end"
    },
    "slide_helper": "slide_end",
    "slideshow": {
     "slide_type": "fragment"
    }
   },
   "source": [
    "We will use parts of the function approximation library show how Julia's unique features (specifically the type system and multiple dispatch) can be leveraged to simplify the code or make it easier to understand"
   ]
  },
  {
   "cell_type": "markdown",
   "metadata": {
    "internals": {
     "frag_helper": "fragment_end",
     "frag_number": 4,
     "slide_helper": "subslide_end",
     "slide_type": "subslide"
    },
    "slide_helper": "subslide_end",
    "slideshow": {
     "slide_type": "slide"
    }
   },
   "source": [
    "## CompEcon basics\n",
    "\n",
    "CompEcon function approximation routines are built on top of three core concepts\n",
    "\n",
    "1. A function space\n",
    "2. Evaluation of basis functions\n",
    "3. Evaluation of interpoland (basis functions * coefficients)"
   ]
  },
  {
   "cell_type": "markdown",
   "metadata": {
    "internals": {
     "frag_helper": "fragment_end",
     "frag_number": 4,
     "slide_helper": "subslide_end",
     "slide_type": "subslide"
    },
    "slide_helper": "subslide_end",
    "slideshow": {
     "slide_type": "subslide"
    }
   },
   "source": [
    "The function space is composed of two main elements:\n",
    "\n",
    "1. A family of basis functions (piecewise linear, Chebyshev, k-th degree B-splines) in each dimension $i=1, 2, \\dots, d$)\n",
    "2. A grid defining approximation space ($n_i$ points from $[a_i, b_i]$ in each dimension)"
   ]
  },
  {
   "cell_type": "markdown",
   "metadata": {
    "collapsed": true,
    "internals": {
     "frag_helper": "fragment_end",
     "frag_number": 4,
     "slide_type": "subslide"
    },
    "slideshow": {
     "slide_type": "subslide"
    }
   },
   "source": [
    "Evaluated basis functions (called a `BasisStructure`) can be represented in three ways:\n",
    "\n",
    "1. Tensor: by dimension, only at grid points for that dimension\n",
    "2. Direct: by dimension, but at all points on cartesian grid\n",
    "3. Expanded: combined, cartesian product for basis functions and grid points"
   ]
  },
  {
   "cell_type": "markdown",
   "metadata": {
    "collapsed": true,
    "internals": {
     "frag_helper": "fragment_end",
     "frag_number": 8,
     "slide_helper": "subslide_end"
    },
    "slide_helper": "slide_end",
    "slideshow": {
     "slide_type": "fragment"
    }
   },
   "source": [
    "Can convert \"down\" (tensor to either direct or expanded; direct to expanded), but not vice versa"
   ]
  },
  {
   "cell_type": "markdown",
   "metadata": {
    "internals": {
     "frag_helper": "fragment_end",
     "frag_number": 8,
     "slide_type": "subslide"
    },
    "slideshow": {
     "slide_type": "slide"
    }
   },
   "source": [
    "Let's go look at the functions that compute these `BasisStructures` (see `funbasex.m` in Matlab and `src/core.jl` in Julia)\n",
    "\n",
    "- Also see `funbconv`, `funeval`, `funfitxy` -- prime examples of multiple dispatch"
   ]
  }
 ],
 "metadata": {
  "kernelspec": {
   "display_name": "Julia 0.4.0-dev",
   "language": "julia",
   "name": "julia 0.4"
  },
  "language_info": {
   "name": "julia",
   "version": "0.4.0"
  }
 },
 "nbformat": 4,
 "nbformat_minor": 0
}
