{
 "cells": [
  {
   "cell_type": "markdown",
   "metadata": {
    "slideshow": {
     "slide_type": "slide"
    }
   },
   "source": [
    "## Methods, Models, and Moments: Julian Economics with QuantEcon.jl\n",
    "\n",
    "**Spencer Lyon, NYU Economics**\n",
    "\n",
    "*Date: 6-25-15*"
   ]
  },
  {
   "cell_type": "markdown",
   "metadata": {
    "slideshow": {
     "slide_type": "slide"
    }
   },
   "source": [
    "## Outline\n",
    "\n",
    "- Bio\n",
    "- [QuantEcon](http://quantecon.org)\n",
    "    - Overview\n",
    "    - Example 1: Using/Extending QuantEcon.jl\n",
    "- Modern economic models\n",
    "    - Overview\n",
    "    - Example 2: Function approximation with CompEcon.jl\n",
    "    - Example 3: Generalized method of moments (if time)\n"
   ]
  },
  {
   "cell_type": "markdown",
   "metadata": {
    "slideshow": {
     "slide_type": "slide"
    }
   },
   "source": [
    "## Bio\n",
    "\n",
    "- Between years 2-3 of economics PhD program at NYU\n",
    "- Live in NYC with wife and two (+26/40) kids\n",
    "- Physics/economics undergrad from BYU\n",
    "- Programming: Mathematica -> Python -> Julia, with others (Haskell, Scala, R, Matlab, C, C++...) sprinkled in"
   ]
  },
  {
   "cell_type": "markdown",
   "metadata": {
    "slideshow": {
     "slide_type": "slide"
    }
   },
   "source": [
    "Move to [QuantEcon](QuantEcon.ipynb) slides"
   ]
  }
 ],
 "metadata": {
  "kernelspec": {
   "display_name": "Python 2",
   "language": "python",
   "name": "python2"
  },
  "language_info": {
   "codemirror_mode": {
    "name": "ipython",
    "version": 2
   },
   "file_extension": ".py",
   "mimetype": "text/x-python",
   "name": "python",
   "nbconvert_exporter": "python",
   "pygments_lexer": "ipython2",
   "version": "2.7.10"
  }
 },
 "nbformat": 4,
 "nbformat_minor": 0
}
