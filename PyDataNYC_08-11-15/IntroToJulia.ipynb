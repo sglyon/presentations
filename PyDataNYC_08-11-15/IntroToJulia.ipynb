{
 "cells": [
  {
   "cell_type": "markdown",
   "metadata": {
    "slideshow": {
     "slide_type": "slide"
    }
   },
   "source": [
    " ## Introduction to Julia\n",
    "\n",
    "**Spencer Lyon, NYU Stern Economics**\n",
    "\n",
    "*Date: 8-11-15*"
   ]
  },
  {
   "cell_type": "markdown",
   "metadata": {
    "collapsed": true,
    "slideshow": {
     "slide_type": "slide"
    }
   },
   "source": [
    "### What is Julia?\n",
    "\n",
    "\n",
    "> Julia is a high-level, high-performance dynamic programming language for technical computing...\n",
    ">\n",
    "> -- <cite>[julialang.org](http://julialang.org)</cite>\n",
    "\n",
    "- How many have heard of Julia?\n",
    "- How many have used Julia?"
   ]
  },
  {
   "cell_type": "markdown",
   "metadata": {
    "slideshow": {
     "slide_type": "subslide"
    }
   },
   "source": [
    "### Key features"
   ]
  },
  {
   "cell_type": "markdown",
   "metadata": {
    "slideshow": {
     "slide_type": "fragment"
    }
   },
   "source": [
    "- Multiple dispatch: the core Julia abstraction $\\Longrightarrow$ specialize function behavior based on runtime types of **all** arguments (classic OO specializes on type of *first* object only)"
   ]
  },
  {
   "cell_type": "markdown",
   "metadata": {
    "slideshow": {
     "slide_type": "fragment"
    }
   },
   "source": [
    "- Built in package manager $\\Longrightarrow$ easy and officially supported package installation, even with binary dependencies"
   ]
  },
  {
   "cell_type": "markdown",
   "metadata": {
    "slideshow": {
     "slide_type": "fragment"
    }
   },
   "source": [
    "- JIT compiled (think numba) $\\Longrightarrow$ concise high level (python-esque) code that can run at near C speeds"
   ]
  },
  {
   "cell_type": "markdown",
   "metadata": {
    "slideshow": {
     "slide_type": "fragment"
    }
   },
   "source": [
    "- Plays nicely with other languages $\\Longrightarrow$ 0-overhead C ffi (without wrappers); call Python, R, Java, Matlab, ect. directly"
   ]
  },
  {
   "cell_type": "markdown",
   "metadata": {
    "slideshow": {
     "slide_type": "subslide"
    }
   },
   "source": [
    "### Unique features"
   ]
  },
  {
   "cell_type": "markdown",
   "metadata": {
    "slideshow": {
     "slide_type": "fragment"
    }
   },
   "source": [
    "- Novel approach to types and metaprogramming $\\Longrightarrow$ allows you to write general algorithms, while generating specialized code for each combination datatypes"
   ]
  },
  {
   "cell_type": "markdown",
   "metadata": {
    "slideshow": {
     "slide_type": "fragment"
    }
   },
   "source": [
    "- Gives access to multiple intermediate representations of code on the way to compilation/execution\n",
    "    - After parsing (`@code_lowered`)\n",
    "    - After inference (`@code_typed`)\n",
    "    - llvm IR (`@code_llvm`)\n",
    "    - Native machine code (`@code_native`)"
   ]
  },
  {
   "cell_type": "markdown",
   "metadata": {
    "slideshow": {
     "slide_type": "subslide"
    }
   },
   "source": [
    "#### Example: benchmarking\n",
    "\n",
    "- [Issue](https://github.com/johnmyleswhite/Benchmarks.jl/issues/5#issuecomment-129918554) I had when benchmarking what I thought were _very_ fast functions:\n",
    "- Demonstration:"
   ]
  },
  {
   "cell_type": "code",
   "execution_count": 3,
   "metadata": {
    "collapsed": false,
    "slideshow": {
     "slide_type": "subslide"
    }
   },
   "outputs": [
    {
     "data": {
      "text/plain": [
       "================ Benchmark Results ========================\n",
       "   Average elapsed time: 12.94 ns\n",
       "     95% CI for average: [12.74 ns, 13.14 ns]\n",
       "   Minimum elapsed time: 12.44 ns\n",
       "                GC time: 0.00%\n",
       "       Memory allocated: 0 bytes\n",
       "  Number of allocations: 0 allocations\n",
       "      Number of samples: 7501\n",
       "        R² of OLS model: 0.952\n",
       "Time used for benchmark: 0.10s\n",
       "            Precompiled: true\n",
       "       Multiple samples: true\n",
       "       Search performed: true"
      ]
     },
     "execution_count": 3,
     "metadata": {},
     "output_type": "execute_result"
    }
   ],
   "source": [
    "using Benchmarks\n",
    "@benchmark sin(2.0)"
   ]
  },
  {
   "cell_type": "code",
   "execution_count": 4,
   "metadata": {
    "collapsed": false,
    "slideshow": {
     "slide_type": "subslide"
    }
   },
   "outputs": [
    {
     "data": {
      "text/plain": [
       "true"
      ]
     },
     "execution_count": 4,
     "metadata": {},
     "output_type": "execute_result"
    }
   ],
   "source": [
    "# do f and y have the same sign?\n",
    "_f2(x, y) = x*y > 0.0\n",
    "_f2(1, 2.0)  # run once to compile"
   ]
  },
  {
   "cell_type": "code",
   "execution_count": 5,
   "metadata": {
    "collapsed": false,
    "slideshow": {
     "slide_type": "fragment"
    }
   },
   "outputs": [
    {
     "ename": "LoadError",
     "evalue": "LoadError: InexactError()\nwhile loading In[5], in expression starting on line 28",
     "output_type": "error",
     "traceback": [
      "LoadError: InexactError()\nwhile loading In[5], in expression starting on line 28",
      "",
      " in trunc at ./float.jl:362",
      " in execute at /Users/sglyon/.julia/v0.4/Benchmarks/src/execute.jl:133",
      " in execute at /Users/sglyon/.julia/v0.4/Benchmarks/src/execute.jl:42"
     ]
    }
   ],
   "source": [
    "@benchmark _f2(42, 3.14159)"
   ]
  },
  {
   "cell_type": "markdown",
   "metadata": {
    "slideshow": {
     "slide_type": "fragment"
    }
   },
   "source": [
    "- What's the problem here? \n",
    "- Here `_f2` reached `8467170729913085952` (see [GitHub issue]((https://github.com/johnmyleswhite/Benchmarks.jl/issues/5#issuecomment-129918554)) evaluations per sample before throwing an error. \n",
    "- Next geometric expansion overflowed the 64 bit integer:"
   ]
  },
  {
   "cell_type": "code",
   "execution_count": 18,
   "metadata": {
    "collapsed": false,
    "slideshow": {
     "slide_type": "fragment"
    }
   },
   "outputs": [
    {
     "data": {
      "text/plain": [
       "true"
      ]
     },
     "execution_count": 18,
     "metadata": {},
     "output_type": "execute_result"
    }
   ],
   "source": [
    "# use `big` for arbitrary precision\n",
    "typemax(Int64) < ceil(BigInt, 1.1 * big(8467170729913085952))"
   ]
  },
  {
   "cell_type": "markdown",
   "metadata": {
    "slideshow": {
     "slide_type": "subslide"
    }
   },
   "source": [
    "- How could Julia execute `_f2` 8 quintillion 467 quadrillion 170 trillion 729 billion 913 million 85 thousand 952  (8 billion billion) times in under 10 seconds?\n",
    "- It can't:"
   ]
  },
  {
   "cell_type": "code",
   "execution_count": 7,
   "metadata": {
    "collapsed": false,
    "slideshow": {
     "slide_type": "fragment"
    }
   },
   "outputs": [
    {
     "data": {
      "text/plain": [
       "foo (generic function with 1 method)"
      ]
     },
     "execution_count": 7,
     "metadata": {},
     "output_type": "execute_result"
    }
   ],
   "source": [
    "function foo()\n",
    "   out = false\n",
    "   for i=1:8467170729913085952\n",
    "        out = _f2(42, 3.14159)\n",
    "   end\n",
    "    return out\n",
    "end  "
   ]
  },
  {
   "cell_type": "code",
   "execution_count": 9,
   "metadata": {
    "collapsed": false
   },
   "outputs": [
    {
     "data": {
      "text/plain": [
       "true"
      ]
     },
     "execution_count": 9,
     "metadata": {},
     "output_type": "execute_result"
    }
   ],
   "source": [
    "foo()"
   ]
  },
  {
   "cell_type": "code",
   "execution_count": 10,
   "metadata": {
    "collapsed": false,
    "slideshow": {
     "slide_type": "fragment"
    }
   },
   "outputs": [
    {
     "data": {
      "text/plain": [
       "================ Benchmark Results ========================\n",
       "   Average elapsed time: 2.71 ns\n",
       "     95% CI for average: [2.66 ns, 2.76 ns]\n",
       "   Minimum elapsed time: 3.38 ns\n",
       "                GC time: 0.00%\n",
       "       Memory allocated: 0 bytes\n",
       "  Number of allocations: 0 allocations\n",
       "      Number of samples: 5601\n",
       "        R² of OLS model: 0.952\n",
       "Time used for benchmark: 0.03s\n",
       "            Precompiled: true\n",
       "       Multiple samples: true\n",
       "       Search performed: true"
      ]
     },
     "execution_count": 10,
     "metadata": {},
     "output_type": "execute_result"
    }
   ],
   "source": [
    "@benchmark foo()"
   ]
  },
  {
   "cell_type": "markdown",
   "metadata": {
    "slideshow": {
     "slide_type": "subslide"
    }
   },
   "source": [
    "- We can look at the intermediate representations of the function call to explore what is happening"
   ]
  },
  {
   "cell_type": "code",
   "execution_count": 11,
   "metadata": {
    "collapsed": false,
    "slideshow": {
     "slide_type": "fragment"
    }
   },
   "outputs": [
    {
     "data": {
      "text/plain": [
       "1-element Array{Any,1}:\n",
       " :($(Expr(:lambda, Any[], Any[Any[Any[:out,:Any,2],Any[symbol(\"#s259\"),:Any,2],Any[:i,:Any,18]],Any[],2,Any[]], :(begin  # In[7], line 2:\n",
       "        out = false # line 3:\n",
       "        GenSym(0) = (Main.colon)(1,8467170729913085952)\n",
       "        #s259 = (top(start))(GenSym(0))\n",
       "        unless (top(!))((top(done))(GenSym(0),#s259)) goto 1\n",
       "        2: \n",
       "        GenSym(1) = (top(next))(GenSym(0),#s259)\n",
       "        i = (top(getfield))(GenSym(1),1)\n",
       "        #s259 = (top(getfield))(GenSym(1),2) # line 4:\n",
       "        out = (Main._f2)(42,3.14159)\n",
       "        3: \n",
       "        unless (top(!))((top(!))((top(done))(GenSym(0),#s259))) goto 2\n",
       "        1: \n",
       "        0:  # line 6:\n",
       "        return out\n",
       "    end))))"
      ]
     },
     "execution_count": 11,
     "metadata": {},
     "output_type": "execute_result"
    }
   ],
   "source": [
    "# AST before inference -- not very enlightening\n",
    "@code_lowered foo()"
   ]
  },
  {
   "cell_type": "code",
   "execution_count": 22,
   "metadata": {
    "collapsed": false,
    "slideshow": {
     "slide_type": "fragment"
    }
   },
   "outputs": [
    {
     "data": {
      "text/plain": [
       "1-element Array{Any,1}:\n",
       " :($(Expr(:lambda, Any[], Any[Any[Any[:out,Bool,2],Any[symbol(\"#s872\"),Int64,2],Any[:i,Int64,18]],Any[],Any[UnitRange{Int64},Tuple{Int64,Int64},Int64,Int64],Any[]], :(begin  # In[19], line 2:\n",
       "        out = false # line 3:\n",
       "        GenSym(0) = $(Expr(:new, UnitRange{Int64}, 1, :(((top(getfield))(Base.Intrinsics,:select_value)::I)((Base.sle_int)(1,8467170729913085952)::Bool,8467170729913085952,(Base.box)(Int64,(Base.sub_int)(1,1))::Int64)::Int64)))\n",
       "        #s872 = (top(getfield))(GenSym(0),:start)::Int64\n",
       "        unless (Base.box)(Base.Bool,(Base.not_int)(#s872::Int64 === (Base.box)(Base.Int,(Base.add_int)((top(getfield))(GenSym(0),:stop)::Int64,1))::Int64::Bool))::Bool goto 1\n",
       "        2: \n",
       "        GenSym(2) = #s872::Int64\n",
       "        GenSym(3) = (Base.box)(Base.Int,(Base.add_int)(#s872::Int64,1))::Int64\n",
       "        i = GenSym(2)\n",
       "        #s872 = GenSym(3) # line 4:\n",
       "        out = (Base.lt_float)(0.0,(Base.box)(Base.Float64,(Base.mul_float)((Base.box)(Float64,(Base.sitofp)(Float64,42))::Float64,3.14159))::Float64)::Bool\n",
       "        3: \n",
       "        unless (Base.box)(Base.Bool,(Base.not_int)((Base.box)(Base.Bool,(Base.not_int)(#s872::Int64 === (Base.box)(Base.Int,(Base.add_int)((top(getfield))(GenSym(0),:stop)::Int64,1))::Int64::Bool))::Bool))::Bool goto 2\n",
       "        1: \n",
       "        0:  # line 6:\n",
       "        return out::Bool\n",
       "    end::Bool))))"
      ]
     },
     "execution_count": 22,
     "metadata": {},
     "output_type": "execute_result"
    }
   ],
   "source": [
    "# AST after inference -- also not enlightening\n",
    "@code_typed foo()"
   ]
  },
  {
   "cell_type": "code",
   "execution_count": 24,
   "metadata": {
    "collapsed": false,
    "scrolled": true,
    "slideshow": {
     "slide_type": "fragment"
    }
   },
   "outputs": [
    {
     "name": "stdout",
     "output_type": "stream",
     "text": [
      "\n",
      "define i1 @julia_foo_24363() {\n",
      "top:\n",
      "  ret i1 true\n",
      "}\n"
     ]
    }
   ],
   "source": [
    "# LLVM IR -- ahh, there's the problem\n",
    "@code_llvm foo()"
   ]
  },
  {
   "cell_type": "code",
   "execution_count": 12,
   "metadata": {
    "collapsed": false
   },
   "outputs": [
    {
     "name": "stdout",
     "output_type": "stream",
     "text": [
      "\t.section\t__TEXT,__text,regular,pure_instructions\n",
      "Filename: In[7]\n",
      "Source line: 6\n",
      "\tpushq\t%rbp\n",
      "\tmovq\t%rsp, %rbp\n",
      "\tmovb\t$1, %al\n",
      "Source line: 6\n",
      "\tpopq\t%rbp\n",
      "\tret\n"
     ]
    }
   ],
   "source": [
    "@code_native foo()"
   ]
  },
  {
   "cell_type": "markdown",
   "metadata": {
    "slideshow": {
     "slide_type": "slide"
    }
   },
   "source": [
    "## Example: `@generated` functions\n",
    "- Task: Construct basis matrix for complete polynomial of degree `d`, given input data `z`. \n",
    "    - `z` is assumed to be the degree 1 realization(s) of each variable. \n",
    "    - For example, if variables are `q`, `r`, and `s`; then  \n",
    "```julia\n",
    "z = [q r s]\n",
    "```\n"
   ]
  },
  {
   "cell_type": "markdown",
   "metadata": {
    "slideshow": {
     "slide_type": "subslide"
    }
   },
   "source": [
    "- Output is a basis matrix. \n",
    "- In our example, with `d` set to 2 we want a matrix with the following columns\n",
    "\n",
    "$$\\begin{bmatrix}\\mathbf{1} & q & r & s & q r & q s & r s & q^2 & r^2 & s^2  \\end{bmatrix}$$\n",
    "- Notice no $q^2 s$, $q^2 r$, $q s^2$, ect. terms\n",
    "- Efficiency boost is magnified as either `d` or the number of variables increases"
   ]
  },
  {
   "cell_type": "markdown",
   "metadata": {
    "slideshow": {
     "slide_type": "subslide"
    }
   },
   "source": [
    "#### Implementation"
   ]
  },
  {
   "cell_type": "markdown",
   "metadata": {
    "slideshow": {
     "slide_type": "fragment"
    }
   },
   "source": [
    "- One function per `d`"
   ]
  },
  {
   "cell_type": "markdown",
   "metadata": {
    "slideshow": {
     "slide_type": "fragment"
    }
   },
   "source": [
    "```julia\n",
    "complete_monomial_1d(z::Matrix) = hcat(ones(size(z, 1), z)\n",
    "\n",
    "function complete_monomial_2d(z::Matrix)\n",
    "    n_x, n = size(z)\n",
    "    out = Array(Float64, n_x, n_complete(n, 2))\n",
    "\n",
    "    out[:, 1] = 1.0\n",
    "    out[:, 2:n+1] = z\n",
    "    \n",
    "    i = n+1\n",
    "    \n",
    "    for j1=1:n\n",
    "        for j2=j1:n\n",
    "            i += 1\n",
    "            out[:, i] = z[:, j1] .* z[:, j2]\n",
    "        end\n",
    "    end\n",
    "    out\n",
    "end\n",
    "\n",
    "function complete_monomial_3d(z::Matrix)\n",
    "    n_x, n = size(z)\n",
    "    out = Array(Float64, n_x, n_complete(n, 3))\n",
    "\n",
    "    out[:, 1] = 1.0\n",
    "    out[:, 2:n+1] = z\n",
    "    \n",
    "    i = n+1\n",
    "    \n",
    "    for j1=1:n\n",
    "        for j2=j1:n\n",
    "            i += 1\n",
    "            out[:, i] = z[:, j1] .* z[:, j2]\n",
    "            for j3=j2:n\n",
    "                i += 1\n",
    "                out[:, i] = z[:, j1] .* z[:, j2] .* z[:, j3]\n",
    "            end\n",
    "        end\n",
    "    end\n",
    "    out\n",
    "end\n",
    "\n",
    "#...\n",
    "```"
   ]
  },
  {
   "cell_type": "markdown",
   "metadata": {
    "slideshow": {
     "slide_type": "skip"
    }
   },
   "source": [
    "\n",
    "\n",
    "\n",
    "\n",
    "\n",
    "\n",
    "\n",
    "\n",
    "\n",
    "\n",
    "\n",
    "\n",
    "\n",
    "\n",
    "\n"
   ]
  },
  {
   "cell_type": "markdown",
   "metadata": {
    "slideshow": {
     "slide_type": "subslide"
    }
   },
   "source": [
    "- One function, manually checking `d`"
   ]
  },
  {
   "cell_type": "markdown",
   "metadata": {
    "slideshow": {
     "slide_type": "fragment"
    }
   },
   "source": [
    "```julia\n",
    "function complete_monomial(z::Matrix, d::Int)\n",
    "    if d > 4\n",
    "        throw(ArgumentError(\"Can't handle more than d = 4\"))\n",
    "    end\n",
    "        \n",
    "    n_x, n = size(z)\n",
    "    out = Array(Float64, n_x, n_complete(n, d))\n",
    "\n",
    "    out[:, 1] = 1.0\n",
    "    out[:, 2:n+1] = z\n",
    "\n",
    "    i = n+1\n",
    "    \n",
    "    if d == 2\n",
    "        for j1=1:n\n",
    "            for j2=j1:n\n",
    "                i += 1\n",
    "                out[:, i] = z[:, j1] .* z[:, j2]\n",
    "            end\n",
    "        end\n",
    "        \n",
    "    elseif d == 3\n",
    "\n",
    "        for j1=1:n\n",
    "            for j2=j1:n\n",
    "                i += 1\n",
    "                out[:, i] = z[:, j1] .* z[:, j2]\n",
    "                \n",
    "                for j3=j2:n\n",
    "                    out += 1\n",
    "                    out[:, i] = z[:, j1] .* z[:, j2] .* z[:, j3]\n",
    "                end\n",
    "            end\n",
    "        end    \n",
    "        \n",
    "    elseif d == 4\n",
    "    \n",
    "        for j1=1:n\n",
    "            for j2=j1:n\n",
    "                i += 1\n",
    "                out[:, i] = z[:, j1] .* z[:, j2]\n",
    "    \n",
    "                for j3=j2:n\n",
    "                    i += 1\n",
    "                    out[:, i] = z[:, j1] .* z[:, j2] .* z[:, j3]\n",
    "                \n",
    "                    for j4=j3:n\n",
    "                        i += 1\n",
    "                        out[:, i] = z[:, j1] .* z[:, j2] .* z[:, j3] .* z[:, j4]\n",
    "                    end\n",
    "                end\n",
    "            end\n",
    "        end \n",
    "    \n",
    "    \n",
    "    return out\n",
    "end\n",
    "```"
   ]
  },
  {
   "cell_type": "markdown",
   "metadata": {
    "slideshow": {
     "slide_type": "subslide"
    }
   },
   "source": [
    "- That code is terrible and repetitive\n",
    "- Solution: use `@generated` functions to get the compiler to write the code for us\n",
    "- Functions can be `@generated` in magic time between type inference and compilation\n",
    "- Allows the programmer to operate on **run-time** *types* of objects and generate specialized code"
   ]
  },
  {
   "cell_type": "code",
   "execution_count": 13,
   "metadata": {
    "collapsed": false,
    "slideshow": {
     "slide_type": "subslide"
    }
   },
   "outputs": [
    {
     "data": {
      "text/plain": [
       "n_complete (generic function with 1 method)"
      ]
     },
     "execution_count": 13,
     "metadata": {},
     "output_type": "execute_result"
    }
   ],
   "source": [
    "using Base.Cartesian  # load extra built-in metaprogramming tools\n",
    "\n",
    "# type that will allow us to operate on arbitrary degree\n",
    "immutable Degree{D} end\n",
    "\n",
    "\"\"\"\n",
    "Give the number of terms in the complete polynomial of degree \n",
    "`D` in `n` variables\n",
    "\"\"\"\n",
    "function n_complete(n::Int, D::Int)\n",
    "    out = 1\n",
    "    for d=1:D\n",
    "        tmp = 1\n",
    "        for j=0:d-1\n",
    "            tmp *= (n+j)\n",
    "        end\n",
    "        out += div(tmp, factorial(d))\n",
    "    end\n",
    "    out\n",
    "end"
   ]
  },
  {
   "cell_type": "code",
   "execution_count": 41,
   "metadata": {
    "collapsed": false,
    "slideshow": {
     "slide_type": "fragment"
    }
   },
   "outputs": [
    {
     "data": {
      "text/plain": [
       "complete_polynomial (generic function with 1 method)"
      ]
     },
     "execution_count": 41,
     "metadata": {},
     "output_type": "execute_result"
    }
   ],
   "source": [
    "\"\"\"\n",
    "Our main function. Operates on the run-time _types_\n",
    "that specify the element type of z and the degree of the polynomial.\n",
    "\n",
    "Returns a Julia expression that can be expanded at compile time\n",
    "into efficient, specialized general code.\n",
    "\"\"\"\n",
    "function complete_polynomial_impl!{T,D}(z::Type{Matrix{T}}, ::Type{Degree{D}},\n",
    "                                        ::Type{Matrix{T}})\n",
    "    println(\"I've never seen a $D before!!\")\n",
    "    quote\n",
    "        nobs, nvar = size(z)\n",
    "        if size(out) != (nobs, n_complete(nvar, $D))\n",
    "            error(\"z, out not compatible\")\n",
    "        end\n",
    "\n",
    "        # reset first column to ones\n",
    "        @inbounds for i=1:nobs\n",
    "            out[i, 1] = 1.0\n",
    "        end\n",
    "        \n",
    "        # set next nvar columns to input matrix\n",
    "        @inbounds for n=2:nvar+1, i=1:nobs\n",
    "            out[i, n] = z[i, n-1]\n",
    "        end\n",
    "        \n",
    "        \n",
    "        ix = nvar+1\n",
    "        @nloops($D, # number of loops\n",
    "                i,  # counter\n",
    "                d->((d == $D ? 1 : i_{d+1}) : nvar),  # ranges\n",
    "                d->(d == $D ? nothing :\n",
    "                    (begin\n",
    "                        ix += 1\n",
    "                        for r=1:nobs\n",
    "                            tmp = one($T)\n",
    "                            @nexprs $D-d+1 j->(tmp *= z[r, i_{$D-j+1}])\n",
    "                            out[r, ix]=tmp\n",
    "                        end\n",
    "                    end)),  # preexpr\n",
    "                Expr(:block, :nothing)  # bodyexpr\n",
    "                )\n",
    "\n",
    "        out\n",
    "    end\n",
    "end\n",
    "\n",
    "\n",
    "# API so users don't have to think about how this happens...\n",
    "@generated function complete_polynomial!{T,D}(z::Matrix{T}, d::Degree{D},\n",
    "                                              out::Matrix{T})\n",
    "    complete_polynomial_impl!(z, d, out)\n",
    "end\n",
    "\n",
    "function complete_polynomial{T}(z::Matrix{T}, d::Int)\n",
    "    nobs, nvar = size(z)\n",
    "    out = Array(T, nobs, n_complete(nvar, d))\n",
    "    complete_polynomial!(z, Degree{d}(), out)::Matrix{T}\n",
    "end\n",
    "\n",
    "# function complete_polynomial!{T}(z::Matrix{T}, d::Int, out::Matrix{T})\n",
    "#     complete_polynomial!(z, Degree{d}(), out)::Matrix{T}\n",
    "# end\n"
   ]
  },
  {
   "cell_type": "code",
   "execution_count": 28,
   "metadata": {
    "collapsed": false
   },
   "outputs": [
    {
     "data": {
      "text/plain": [
       "bing (generic function with 6 methods)"
      ]
     },
     "execution_count": 28,
     "metadata": {},
     "output_type": "execute_result"
    }
   ],
   "source": [
    "bing(x::Array{Int8, 3}, y::Array{Int8, 3}) = \"hello\"\n",
    "bing(x::Array{Float64, 3}, y::Array{Float64, 3}) = \" world!\"\n",
    "bing(x::Array, y::Array) = \"π\"\n",
    "bing(x) = \"holy crap\"\n",
    "bing(x, y...) = \"holy holy crap\""
   ]
  },
  {
   "cell_type": "code",
   "execution_count": 36,
   "metadata": {
    "collapsed": false
   },
   "outputs": [
    {
     "data": {
      "text/plain": [
       "\"holy holy crap\""
      ]
     },
     "execution_count": 36,
     "metadata": {},
     "output_type": "execute_result"
    }
   ],
   "source": [
    "bing(true, false)"
   ]
  },
  {
   "cell_type": "code",
   "execution_count": 48,
   "metadata": {
    "collapsed": false
   },
   "outputs": [
    {
     "data": {
      "text/plain": [
       "10x20 Array{Int64,2}:\n",
       " 1   4090761276323375628   6174006380292642962  …   6169913072611006696\n",
       " 1   1358796917882287569   3545568378408000695      6932434956123726600\n",
       " 1  -8541259174508298418   6381260643360795474     -1847586742164302920\n",
       " 1  -2986378239988943492   3031267148602184624     -1240785835727468191\n",
       " 1   3873996157182141613  -5751673107759527698     -1025760715484026739\n",
       " 1  -3375980518437612579  -3735941091538372018  …   3750448031811323464\n",
       " 1     -6062322050398711  -8220903493712129751     -9110272432023281064\n",
       " 1   3157306623872132589   -643559529426315433     -5271758905022099879\n",
       " 1   6407705964348392006   -821188481491160567     -2385542082729961592\n",
       " 1   2473456209025917346   1344953301422291173      -271967206275082183"
      ]
     },
     "execution_count": 48,
     "metadata": {},
     "output_type": "execute_result"
    }
   ],
   "source": [
    "z = rand(Int64, 10, 3)\n",
    "complete_polynomial(z, 3)"
   ]
  },
  {
   "cell_type": "code",
   "execution_count": 21,
   "metadata": {
    "collapsed": false
   },
   "outputs": [
    {
     "data": {
      "text/plain": [
       "10x3 Array{Float64,2}:\n",
       " 0.439844   0.93496   0.429994 \n",
       " 0.325276   0.382143  0.697281 \n",
       " 0.858268   0.870925  0.182534 \n",
       " 0.78834    0.896466  0.887134 \n",
       " 0.761294   0.684034  0.436334 \n",
       " 0.718588   0.240516  0.966357 \n",
       " 0.0528628  0.190845  0.967564 \n",
       " 0.151911   0.802862  0.26659  \n",
       " 0.539701   0.149782  0.0786654\n",
       " 0.614315   0.791584  0.414551 "
      ]
     },
     "execution_count": 21,
     "metadata": {},
     "output_type": "execute_result"
    }
   ],
   "source": [
    "z"
   ]
  },
  {
   "cell_type": "code",
   "execution_count": 17,
   "metadata": {
    "collapsed": false,
    "scrolled": false,
    "slideshow": {
     "slide_type": "subslide"
    }
   },
   "outputs": [
    {
     "data": {
      "text/plain": [
       "quote  # In[14], line 11:\n",
       "    (nobs,nvar) = size(z) # line 12:\n",
       "    if size(out) != (nobs,n_complete(nvar,8)) # line 13:\n",
       "        error(\"z, out not compatible\")\n",
       "    end # line 17:\n",
       "    begin \n",
       "        $(Expr(:boundscheck, false))\n",
       "        begin \n",
       "            for i = 1:nobs # line 18:\n",
       "                out[i,1] = 1.0\n",
       "            end\n",
       "            $(Expr(:boundscheck, :(Base.pop)))\n",
       "        end\n",
       "    end # line 22:\n",
       "    begin \n",
       "        $(Expr(:boundscheck, false))\n",
       "        begin \n",
       "            for n = 2:nvar + 1, i = 1:nobs # line 23:\n",
       "                out[i,n] = z[i,n - 1]\n",
       "            end\n",
       "            $(Expr(:boundscheck, :(Base.pop)))\n",
       "        end\n",
       "    end # line 27:\n",
       "    ix = nvar + 1 # line 28:\n",
       "    begin  # cartesian.jl, line 31:\n",
       "        for i_8 = 1:nvar # line 32:\n",
       "            nothing # line 33:\n",
       "            begin  # cartesian.jl, line 31:\n",
       "                for i_7 = i_8:nvar # line 32:\n",
       "                    begin  # In[14], line 33:\n",
       "                        ix += 1 # line 34:\n",
       "                        for r = 1:nobs # line 35:\n",
       "                            tmp = one(Float64) # line 36:\n",
       "                            begin \n",
       "                                tmp *= z[r,i_8]\n",
       "                                tmp *= z[r,i_7]\n",
       "                            end # line 37:\n",
       "                            out[r,ix] = tmp\n",
       "                        end\n",
       "                    end # line 33:\n",
       "                    begin  # cartesian.jl, line 31:\n",
       "                        for i_6 = i_7:nvar # line 32:\n",
       "                            begin  # In[14], line 33:\n",
       "                                ix += 1 # line 34:\n",
       "                                for r = 1:nobs # line 35:\n",
       "                                    tmp = one(Float64) # line 36:\n",
       "                                    begin \n",
       "                                        tmp *= z[r,i_8]\n",
       "                                        tmp *= z[r,i_7]\n",
       "                                        tmp *= z[r,i_6]\n",
       "                                    end # line 37:\n",
       "                                    out[r,ix] = tmp\n",
       "                                end\n",
       "                            end # line 33:\n",
       "                            begin  # cartesian.jl, line 31:\n",
       "                                for i_5 = i_6:nvar # line 32:\n",
       "                                    begin  # In[14], line 33:\n",
       "                                        ix += 1 # line 34:\n",
       "                                        for r = 1:nobs # line 35:\n",
       "                                            tmp = one(Float64) # line 36:\n",
       "                                            begin \n",
       "                                                tmp *= z[r,i_8]\n",
       "                                                tmp *= z[r,i_7]\n",
       "                                                tmp *= z[r,i_6]\n",
       "                                                tmp *= z[r,i_5]\n",
       "                                            end # line 37:\n",
       "                                            out[r,ix] = tmp\n",
       "                                        end\n",
       "                                    end # line 33:\n",
       "                                    begin  # cartesian.jl, line 31:\n",
       "                                        for i_4 = i_5:nvar # line 32:\n",
       "                                            begin  # In[14], line 33:\n",
       "                                                ix += 1 # line 34:\n",
       "                                                for r = 1:nobs # line 35:\n",
       "                                                    tmp = one(Float64) # line 36:\n",
       "                                                    begin \n",
       "                                                        tmp *= z[r,i_8]\n",
       "                                                        tmp *= z[r,i_7]\n",
       "                                                        tmp *= z[r,i_6]\n",
       "                                                        tmp *= z[r,i_5]\n",
       "                                                        tmp *= z[r,i_4]\n",
       "                                                    end # line 37:\n",
       "                                                    out[r,ix] = tmp\n",
       "                                                end\n",
       "                                            end # line 33:\n",
       "                                            begin  # cartesian.jl, line 31:\n",
       "                                                for i_3 = i_4:nvar # line 32:\n",
       "                                                    begin  # In[14], line 33:\n",
       "                                                        ix += 1 # line 34:\n",
       "                                                        for r = 1:nobs # line 35:\n",
       "                                                            tmp = one(Float64) # line 36:\n",
       "                                                            begin \n",
       "                                                                tmp *= z[r,i_8]\n",
       "                                                                tmp *= z[r,i_7]\n",
       "                                                                tmp *= z[r,i_6]\n",
       "                                                                tmp *= z[r,i_5]\n",
       "                                                                tmp *= z[r,i_4]\n",
       "                                                                tmp *= z[r,i_3]\n",
       "                                                            end # line 37:\n",
       "                                                            out[r,ix] = tmp\n",
       "                                                        end\n",
       "                                                    end # line 33:\n",
       "                                                    begin  # cartesian.jl, line 31:\n",
       "                                                        for i_2 = i_3:nvar # line 32:\n",
       "                                                            begin  # In[14], line 33:\n",
       "                                                                ix += 1 # line 34:\n",
       "                                                                for r = 1:nobs # line 35:\n",
       "                                                                    tmp = one(Float64) # line 36:\n",
       "                                                                    begin \n",
       "                                                                        tmp *= z[r,i_8]\n",
       "                                                                        tmp *= z[r,i_7]\n",
       "                                                                        tmp *= z[r,i_6]\n",
       "                                                                        tmp *= z[r,i_5]\n",
       "                                                                        tmp *= z[r,i_4]\n",
       "                                                                        tmp *= z[r,i_3]\n",
       "                                                                        tmp *= z[r,i_2]\n",
       "                                                                    end # line 37:\n",
       "                                                                    out[r,ix] = tmp\n",
       "                                                                end\n",
       "                                                            end # line 33:\n",
       "                                                            begin  # cartesian.jl, line 31:\n",
       "                                                                for i_1 = i_2:nvar # line 32:\n",
       "                                                                    begin  # In[14], line 33:\n",
       "                                                                        ix += 1 # line 34:\n",
       "                                                                        for r = 1:nobs # line 35:\n",
       "                                                                            tmp = one(Float64) # line 36:\n",
       "                                                                            begin \n",
       "                                                                                tmp *= z[r,i_8]\n",
       "                                                                                tmp *= z[r,i_7]\n",
       "                                                                                tmp *= z[r,i_6]\n",
       "                                                                                tmp *= z[r,i_5]\n",
       "                                                                                tmp *= z[r,i_4]\n",
       "                                                                                tmp *= z[r,i_3]\n",
       "                                                                                tmp *= z[r,i_2]\n",
       "                                                                                tmp *= z[r,i_1]\n",
       "                                                                            end # line 37:\n",
       "                                                                            out[r,ix] = tmp\n",
       "                                                                        end\n",
       "                                                                    end # line 33:\n",
       "                                                                    Expr(:block,:nothing) # line 34:\n",
       "                                                                    nothing\n",
       "                                                                end\n",
       "                                                            end # line 34:\n",
       "                                                            nothing\n",
       "                                                        end\n",
       "                                                    end # line 34:\n",
       "                                                    nothing\n",
       "                                                end\n",
       "                                            end # line 34:\n",
       "                                            nothing\n",
       "                                        end\n",
       "                                    end # line 34:\n",
       "                                    nothing\n",
       "                                end\n",
       "                            end # line 34:\n",
       "                            nothing\n",
       "                        end\n",
       "                    end # line 34:\n",
       "                    nothing\n",
       "                end\n",
       "            end # line 34:\n",
       "            nothing\n",
       "        end\n",
       "    end # line 43:\n",
       "    out\n",
       "end"
      ]
     },
     "execution_count": 17,
     "metadata": {},
     "output_type": "execute_result"
    }
   ],
   "source": [
    "macroexpand(complete_polynomial_impl!(Matrix{Float64}, Degree{8}, Matrix{Float64}))"
   ]
  },
  {
   "cell_type": "markdown",
   "metadata": {
    "collapsed": true,
    "slideshow": {
     "slide_type": "subslide"
    }
   },
   "source": [
    "Move to [Images](Images.ipynb) slides (time permitting)"
   ]
  }
 ],
 "metadata": {
  "kernelspec": {
   "display_name": "Julia 0.4.0-dev",
   "language": "julia",
   "name": "julia-0.4"
  },
  "language_info": {
   "file_extension": ".jl",
   "mimetype": "application/julia",
   "name": "julia",
   "version": "0.4.0"
  }
 },
 "nbformat": 4,
 "nbformat_minor": 0
}
