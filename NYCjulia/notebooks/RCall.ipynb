{
 "cells": [
  {
   "cell_type": "markdown",
   "metadata": {
    "internals": {
     "slide_helper": "subslide_end",
     "slide_type": "subslide"
    },
    "slide_helper": "slide_end",
    "slideshow": {
     "slide_type": "slide"
    }
   },
   "source": [
    "## Calling R from Julia\n",
    "\n",
    "**Spencer Lyon** \n",
    "\n",
    "\n",
    "*Date: 4-23-15*"
   ]
  },
  {
   "cell_type": "code",
   "execution_count": 19,
   "metadata": {
    "collapsed": false,
    "internals": {
     "slide_helper": "subslide_end",
     "slide_type": "subslide"
    },
    "slide_helper": "slide_end",
    "slideshow": {
     "slide_type": "slide"
    }
   },
   "outputs": [
    {
     "data": {
      "text/plain": [
       "RCall.EnvSxp(25165956,Ptr{Void} @0x00007f9ef608d978,Ptr{Void} @0x00007f9ef6362f58,Ptr{Void} @0x00007f9ef961dca8,Ptr{Void} @0x00007f9ef608d978,Ptr{Void} @0x00007f9ef5d3dcd0,Ptr{Void} @0x00007f9ef8256840)"
      ]
     },
     "execution_count": 19,
     "metadata": {},
     "output_type": "execute_result"
    }
   ],
   "source": [
    "# load package and define constant to interact with r global environment\n",
    "using RCall, DataFrames\n",
    "const g = globalEnv"
   ]
  },
  {
   "cell_type": "code",
   "execution_count": 20,
   "metadata": {
    "collapsed": false,
    "internals": {
     "slide_helper": "subslide_end",
     "slide_type": "subslide"
    },
    "slide_helper": "slide_end",
    "slideshow": {
     "slide_type": "slide"
    }
   },
   "outputs": [
    {
     "name": "stdout",
     "output_type": "stream",
     "text": [
      "[1] \"robustbase\" \"ggplot2\"    \"stats\"      \"graphics\"   \"grDevices\" \n",
      "[6] \"utils\"      \"datasets\"   \"methods\"    \"base\"      \n"
     ]
    },
    {
     "data": {
      "text/html": [
       "<table class=\"data-frame\"><tr><th></th><th>carat</th><th>cut</th><th>color</th><th>clarity</th><th>depth</th><th>table</th><th>price</th><th>x</th><th>y</th><th>z</th></tr><tr><th>1</th><td>0.23</td><td>Ideal</td><td>E</td><td>SI2</td><td>61.5</td><td>55.0</td><td>326</td><td>3.95</td><td>3.98</td><td>2.43</td></tr><tr><th>2</th><td>0.21</td><td>Premium</td><td>E</td><td>SI1</td><td>59.8</td><td>61.0</td><td>326</td><td>3.89</td><td>3.84</td><td>2.31</td></tr><tr><th>3</th><td>0.23</td><td>Good</td><td>E</td><td>VS1</td><td>56.9</td><td>65.0</td><td>327</td><td>4.05</td><td>4.07</td><td>2.31</td></tr><tr><th>4</th><td>0.29</td><td>Premium</td><td>I</td><td>VS2</td><td>62.4</td><td>58.0</td><td>334</td><td>4.2</td><td>4.23</td><td>2.63</td></tr><tr><th>5</th><td>0.31</td><td>Good</td><td>J</td><td>SI2</td><td>63.3</td><td>58.0</td><td>335</td><td>4.34</td><td>4.35</td><td>2.75</td></tr><tr><th>6</th><td>0.24</td><td>Very Good</td><td>J</td><td>VVS2</td><td>62.8</td><td>57.0</td><td>336</td><td>3.94</td><td>3.96</td><td>2.48</td></tr><tr><th>7</th><td>0.24</td><td>Very Good</td><td>I</td><td>VVS1</td><td>62.3</td><td>57.0</td><td>336</td><td>3.95</td><td>3.98</td><td>2.47</td></tr><tr><th>8</th><td>0.26</td><td>Very Good</td><td>H</td><td>SI1</td><td>61.9</td><td>55.0</td><td>337</td><td>4.07</td><td>4.11</td><td>2.53</td></tr><tr><th>9</th><td>0.22</td><td>Fair</td><td>E</td><td>VS2</td><td>65.1</td><td>61.0</td><td>337</td><td>3.87</td><td>3.78</td><td>2.49</td></tr><tr><th>10</th><td>0.23</td><td>Very Good</td><td>H</td><td>VS1</td><td>59.4</td><td>61.0</td><td>338</td><td>4.0</td><td>4.05</td><td>2.39</td></tr><tr><th>11</th><td>0.3</td><td>Good</td><td>J</td><td>SI1</td><td>64.0</td><td>55.0</td><td>339</td><td>4.25</td><td>4.28</td><td>2.73</td></tr><tr><th>12</th><td>0.23</td><td>Ideal</td><td>J</td><td>VS1</td><td>62.8</td><td>56.0</td><td>340</td><td>3.93</td><td>3.9</td><td>2.46</td></tr><tr><th>13</th><td>0.22</td><td>Premium</td><td>F</td><td>SI1</td><td>60.4</td><td>61.0</td><td>342</td><td>3.88</td><td>3.84</td><td>2.33</td></tr><tr><th>14</th><td>0.31</td><td>Ideal</td><td>J</td><td>SI2</td><td>62.2</td><td>54.0</td><td>344</td><td>4.35</td><td>4.37</td><td>2.71</td></tr><tr><th>15</th><td>0.2</td><td>Premium</td><td>E</td><td>SI2</td><td>60.2</td><td>62.0</td><td>345</td><td>3.79</td><td>3.75</td><td>2.27</td></tr><tr><th>16</th><td>0.32</td><td>Premium</td><td>E</td><td>I1</td><td>60.9</td><td>58.0</td><td>345</td><td>4.38</td><td>4.42</td><td>2.68</td></tr><tr><th>17</th><td>0.3</td><td>Ideal</td><td>I</td><td>SI2</td><td>62.0</td><td>54.0</td><td>348</td><td>4.31</td><td>4.34</td><td>2.68</td></tr><tr><th>18</th><td>0.3</td><td>Good</td><td>J</td><td>SI1</td><td>63.4</td><td>54.0</td><td>351</td><td>4.23</td><td>4.29</td><td>2.7</td></tr><tr><th>19</th><td>0.3</td><td>Good</td><td>J</td><td>SI1</td><td>63.8</td><td>56.0</td><td>351</td><td>4.23</td><td>4.26</td><td>2.71</td></tr><tr><th>20</th><td>0.3</td><td>Very Good</td><td>J</td><td>SI1</td><td>62.7</td><td>59.0</td><td>351</td><td>4.21</td><td>4.27</td><td>2.66</td></tr><tr><th>21</th><td>0.3</td><td>Good</td><td>I</td><td>SI2</td><td>63.3</td><td>56.0</td><td>351</td><td>4.26</td><td>4.3</td><td>2.71</td></tr><tr><th>22</th><td>0.23</td><td>Very Good</td><td>E</td><td>VS2</td><td>63.8</td><td>55.0</td><td>352</td><td>3.85</td><td>3.92</td><td>2.48</td></tr><tr><th>23</th><td>0.23</td><td>Very Good</td><td>H</td><td>VS1</td><td>61.0</td><td>57.0</td><td>353</td><td>3.94</td><td>3.96</td><td>2.41</td></tr><tr><th>24</th><td>0.31</td><td>Very Good</td><td>J</td><td>SI1</td><td>59.4</td><td>62.0</td><td>353</td><td>4.39</td><td>4.43</td><td>2.62</td></tr><tr><th>25</th><td>0.31</td><td>Very Good</td><td>J</td><td>SI1</td><td>58.1</td><td>62.0</td><td>353</td><td>4.44</td><td>4.47</td><td>2.59</td></tr><tr><th>26</th><td>0.23</td><td>Very Good</td><td>G</td><td>VVS2</td><td>60.4</td><td>58.0</td><td>354</td><td>3.97</td><td>4.01</td><td>2.41</td></tr><tr><th>27</th><td>0.24</td><td>Premium</td><td>I</td><td>VS1</td><td>62.5</td><td>57.0</td><td>355</td><td>3.97</td><td>3.94</td><td>2.47</td></tr><tr><th>28</th><td>0.3</td><td>Very Good</td><td>J</td><td>VS2</td><td>62.2</td><td>57.0</td><td>357</td><td>4.28</td><td>4.3</td><td>2.67</td></tr><tr><th>29</th><td>0.23</td><td>Very Good</td><td>D</td><td>VS2</td><td>60.5</td><td>61.0</td><td>357</td><td>3.96</td><td>3.97</td><td>2.4</td></tr><tr><th>30</th><td>0.23</td><td>Very Good</td><td>F</td><td>VS1</td><td>60.9</td><td>57.0</td><td>357</td><td>3.96</td><td>3.99</td><td>2.42</td></tr><tr><th>&vellip;</th><td>&vellip;</td><td>&vellip;</td><td>&vellip;</td><td>&vellip;</td><td>&vellip;</td><td>&vellip;</td><td>&vellip;</td><td>&vellip;</td><td>&vellip;</td><td>&vellip;</td></tr></table>"
      ],
      "text/plain": [
       "53940x10 DataFrames.DataFrame\n",
       "| Row   | carat | cut         | color | clarity | depth | table | price | x    |\n",
       "|-------|-------|-------------|-------|---------|-------|-------|-------|------|\n",
       "| 1     | 0.23  | \"Ideal\"     | \"E\"   | \"SI2\"   | 61.5  | 55.0  | 326   | 3.95 |\n",
       "| 2     | 0.21  | \"Premium\"   | \"E\"   | \"SI1\"   | 59.8  | 61.0  | 326   | 3.89 |\n",
       "| 3     | 0.23  | \"Good\"      | \"E\"   | \"VS1\"   | 56.9  | 65.0  | 327   | 4.05 |\n",
       "| 4     | 0.29  | \"Premium\"   | \"I\"   | \"VS2\"   | 62.4  | 58.0  | 334   | 4.2  |\n",
       "| 5     | 0.31  | \"Good\"      | \"J\"   | \"SI2\"   | 63.3  | 58.0  | 335   | 4.34 |\n",
       "| 6     | 0.24  | \"Very Good\" | \"J\"   | \"VVS2\"  | 62.8  | 57.0  | 336   | 3.94 |\n",
       "| 7     | 0.24  | \"Very Good\" | \"I\"   | \"VVS1\"  | 62.3  | 57.0  | 336   | 3.95 |\n",
       "| 8     | 0.26  | \"Very Good\" | \"H\"   | \"SI1\"   | 61.9  | 55.0  | 337   | 4.07 |\n",
       "| 9     | 0.22  | \"Fair\"      | \"E\"   | \"VS2\"   | 65.1  | 61.0  | 337   | 3.87 |\n",
       "| 10    | 0.23  | \"Very Good\" | \"H\"   | \"VS1\"   | 59.4  | 61.0  | 338   | 4.0  |\n",
       "| 11    | 0.3   | \"Good\"      | \"J\"   | \"SI1\"   | 64.0  | 55.0  | 339   | 4.25 |\n",
       "⋮\n",
       "| 53929 | 0.79  | \"Premium\"   | \"E\"   | \"SI2\"   | 61.4  | 58.0  | 2756  | 6.03 |\n",
       "| 53930 | 0.71  | \"Ideal\"     | \"G\"   | \"VS1\"   | 61.4  | 56.0  | 2756  | 5.76 |\n",
       "| 53931 | 0.71  | \"Premium\"   | \"E\"   | \"SI1\"   | 60.5  | 55.0  | 2756  | 5.79 |\n",
       "| 53932 | 0.71  | \"Premium\"   | \"F\"   | \"SI1\"   | 59.8  | 62.0  | 2756  | 5.74 |\n",
       "| 53933 | 0.7   | \"Very Good\" | \"E\"   | \"VS2\"   | 60.5  | 59.0  | 2757  | 5.71 |\n",
       "| 53934 | 0.7   | \"Very Good\" | \"E\"   | \"VS2\"   | 61.2  | 59.0  | 2757  | 5.69 |\n",
       "| 53935 | 0.72  | \"Premium\"   | \"D\"   | \"SI1\"   | 62.7  | 59.0  | 2757  | 5.69 |\n",
       "| 53936 | 0.72  | \"Ideal\"     | \"D\"   | \"SI1\"   | 60.8  | 57.0  | 2757  | 5.75 |\n",
       "| 53937 | 0.72  | \"Good\"      | \"D\"   | \"SI1\"   | 63.1  | 55.0  | 2757  | 5.69 |\n",
       "| 53938 | 0.7   | \"Very Good\" | \"D\"   | \"SI1\"   | 62.8  | 60.0  | 2757  | 5.66 |\n",
       "| 53939 | 0.86  | \"Premium\"   | \"H\"   | \"SI2\"   | 61.0  | 58.0  | 2757  | 6.15 |\n",
       "| 53940 | 0.75  | \"Ideal\"     | \"D\"   | \"SI2\"   | 62.2  | 55.0  | 2757  | 5.83 |\n",
       "\n",
       "| Row   | y    | z    |\n",
       "|-------|------|------|\n",
       "| 1     | 3.98 | 2.43 |\n",
       "| 2     | 3.84 | 2.31 |\n",
       "| 3     | 4.07 | 2.31 |\n",
       "| 4     | 4.23 | 2.63 |\n",
       "| 5     | 4.35 | 2.75 |\n",
       "| 6     | 3.96 | 2.48 |\n",
       "| 7     | 3.98 | 2.47 |\n",
       "| 8     | 4.11 | 2.53 |\n",
       "| 9     | 3.78 | 2.49 |\n",
       "| 10    | 4.05 | 2.39 |\n",
       "| 11    | 4.28 | 2.73 |\n",
       "⋮\n",
       "| 53929 | 5.96 | 3.68 |\n",
       "| 53930 | 5.73 | 3.53 |\n",
       "| 53931 | 5.74 | 3.49 |\n",
       "| 53932 | 5.73 | 3.43 |\n",
       "| 53933 | 5.76 | 3.47 |\n",
       "| 53934 | 5.72 | 3.49 |\n",
       "| 53935 | 5.73 | 3.58 |\n",
       "| 53936 | 5.76 | 3.5  |\n",
       "| 53937 | 5.75 | 3.61 |\n",
       "| 53938 | 5.68 | 3.56 |\n",
       "| 53939 | 6.12 | 3.74 |\n",
       "| 53940 | 5.87 | 3.64 |"
      ]
     },
     "execution_count": 20,
     "metadata": {},
     "output_type": "execute_result"
    }
   ],
   "source": [
    "# Accessing R data sets\n",
    "rprint(\"library(ggplot2)\")\n",
    "diamonds = DataFrame(\"ggplot2::diamonds\") "
   ]
  },
  {
   "cell_type": "code",
   "execution_count": 21,
   "metadata": {
    "collapsed": false,
    "internals": {
     "slide_helper": "subslide_end",
     "slide_type": "subslide"
    },
    "slide_helper": "slide_end",
    "slideshow": {
     "slide_type": "slide"
    }
   },
   "outputs": [
    {
     "data": {
      "text/plain": [
       "11-element Array{ASCIIString,1}:\n",
       " \".GlobalEnv\"        \n",
       " \"package:robustbase\"\n",
       " \"package:ggplot2\"   \n",
       " \"package:stats\"     \n",
       " \"package:graphics\"  \n",
       " \"package:grDevices\" \n",
       " \"package:utils\"     \n",
       " \"package:datasets\"  \n",
       " \"package:methods\"   \n",
       " \"Autoloads\"         \n",
       " \"package:base\"      "
      ]
     },
     "execution_count": 21,
     "metadata": {},
     "output_type": "execute_result"
    }
   ],
   "source": [
    "# execute arbitrary r code using pipe syntax `|>`\n",
    "\"search()\" |>  rcopy"
   ]
  },
  {
   "cell_type": "code",
   "execution_count": 22,
   "metadata": {
    "collapsed": false,
    "internals": {
     "slide_type": "subslide"
    },
    "slideshow": {
     "slide_type": "slide"
    }
   },
   "outputs": [
    {
     "name": "stdout",
     "output_type": "stream",
     "text": [
      " [1]  1  2  3  4  5  6  7  8  9 10\n"
     ]
    }
   ],
   "source": [
    "# Passing Julia objects to R\n",
    "x = collect(1:10)\n",
    "g[:y] = x\n",
    "rprint(:y) "
   ]
  },
  {
   "cell_type": "code",
   "execution_count": 23,
   "metadata": {
    "collapsed": false,
    "internals": {
     "frag_number": 5
    },
    "slideshow": {
     "slide_type": "fragment"
    }
   },
   "outputs": [
    {
     "data": {
      "text/plain": [
       "10-element Array{Int32,1}:\n",
       "  1\n",
       "  2\n",
       "  3\n",
       "  4\n",
       "  5\n",
       "  6\n",
       "  7\n",
       "  8\n",
       "  9\n",
       " 10"
      ]
     },
     "execution_count": 23,
     "metadata": {},
     "output_type": "execute_result"
    }
   ],
   "source": [
    "# and back to Julia \n",
    "z = rcopy(g[:y])"
   ]
  },
  {
   "cell_type": "code",
   "execution_count": 24,
   "metadata": {
    "collapsed": false,
    "internals": {
     "frag_helper": "fragment_end",
     "frag_number": 6,
     "slide_helper": "subslide_end"
    },
    "slide_helper": "slide_end",
    "slideshow": {
     "slide_type": "fragment"
    }
   },
   "outputs": [
    {
     "data": {
      "text/plain": [
       "true"
      ]
     },
     "execution_count": 24,
     "metadata": {},
     "output_type": "execute_result"
    }
   ],
   "source": [
    " z == x"
   ]
  },
  {
   "cell_type": "code",
   "execution_count": 25,
   "metadata": {
    "collapsed": false,
    "internals": {
     "frag_helper": "fragment_end",
     "frag_number": 6,
     "slide_helper": "subslide_end",
     "slide_type": "subslide"
    },
    "slide_helper": "subslide_end",
    "slideshow": {
     "slide_type": "slide"
    }
   },
   "outputs": [
    {
     "name": "stdout",
     "output_type": "stream",
     "text": [
      "[1] \"robustbase\" \"ggplot2\"    \"stats\"      \"graphics\"   \"grDevices\" \n",
      "[6] \"utils\"      \"datasets\"   \"methods\"    \"base\"      \n"
     ]
    },
    {
     "ename": "LoadError",
     "evalue": "LoadError: MethodError: `rcopy` has no method matching rcopy(::RCall.ClosSxp)\nwhile loading In[25], in expression starting on line 5",
     "output_type": "error",
     "traceback": [
      "LoadError: MethodError: `rcopy` has no method matching rcopy(::RCall.ClosSxp)\nwhile loading In[25], in expression starting on line 5",
      "",
      " in rcopy at no file",
      " in map_to! at abstractarray.jl:1298",
      " in map_to! at abstractarray.jl:1307",
      " in map at abstractarray.jl:1320",
      " in rcopy at /Users/sglyon/.julia/v0.4/RCall/src/sexp.jl:131",
      " in rcopy at no file",
      " in map_to! at abstractarray.jl:1298",
      " in map_to! at abstractarray.jl:1307",
      " in map at abstractarray.jl:1320",
      " in rcopy at /Users/sglyon/.julia/v0.4/RCall/src/sexp.jl:131",
      " in rcopy at /Users/sglyon/.julia/v0.4/RCall/src/iface.jl:35",
      " in |> at /usr/local/Cellar/julia/HEAD/lib/julia/sys.dylib"
     ]
    },
    {
     "name": "stdout",
     "output_type": "stream",
     "text": [
      "quartz_off_screen \n",
      "                2 \n"
     ]
    }
   ],
   "source": [
    "# Loading R libraries\n",
    "rprint(\"library(robustbase)\")\n",
    "\n",
    "# error copying m1 to Julia, everything worked in R\n",
    "\"m1 <- lmrob(Y ~ ., coleman)\" |> rcopy "
   ]
  },
  {
   "cell_type": "code",
   "execution_count": 26,
   "metadata": {
    "collapsed": false,
    "internals": {
     "frag_helper": "fragment_end",
     "frag_number": 6,
     "slide_helper": "subslide_end",
     "slide_type": "subslide"
    },
    "slide_helper": "subslide_end",
    "slideshow": {
     "slide_type": "subslide"
    }
   },
   "outputs": [
    {
     "name": "stdout",
     "output_type": "stream",
     "text": [
      "               Estimate Std. Error   t value     Pr(>|t|)\n",
      "(Intercept) 30.50232008 6.71260427  4.544037 4.588913e-04\n",
      "salaryP     -1.66614686 0.43128710 -3.863197 1.722163e-03\n",
      "fatherWc     0.08425381 0.01467468  5.741440 5.100316e-05\n",
      "sstatus      0.66773659 0.03385090 19.725816 1.296519e-11\n",
      "teacherSc    1.16777742 0.10983312 10.632289 4.348637e-08\n",
      "motherLev   -4.13656905 0.92083740 -4.492182 5.067196e-04\n"
     ]
    }
   ],
   "source": [
    "# have R print coefficient table\n",
    "\"coef(summary(m1))\"  |> rprint "
   ]
  },
  {
   "cell_type": "code",
   "execution_count": 27,
   "metadata": {
    "collapsed": false,
    "internals": {
     "frag_helper": "fragment_end",
     "frag_number": 6,
     "slide_helper": "subslide_end",
     "slide_type": "subslide"
    },
    "slide_helper": "slide_end",
    "slideshow": {
     "slide_type": "subslide"
    }
   },
   "outputs": [
    {
     "data": {
      "text/plain": [
       "6x4 Array{Float64,2}:\n",
       " 30.5023     6.7126      4.54404  0.000458891\n",
       " -1.66615    0.431287   -3.8632   0.00172216 \n",
       "  0.0842538  0.0146747   5.74144  5.10032e-5 \n",
       "  0.667737   0.0338509  19.7258   1.29652e-11\n",
       "  1.16778    0.109833   10.6323   4.34864e-8 \n",
       " -4.13657    0.920837   -4.49218  0.00050672 "
      ]
     },
     "execution_count": 27,
     "metadata": {},
     "output_type": "execute_result"
    }
   ],
   "source": [
    "# extract Matrix of coefficients\n",
    "m1_coefs = rcopy(\"coef(summary(m1))\")"
   ]
  },
  {
   "cell_type": "code",
   "execution_count": 28,
   "metadata": {
    "collapsed": false,
    "internals": {
     "frag_helper": "fragment_end",
     "frag_number": 6,
     "slide_helper": "subslide_end",
     "slide_type": "subslide"
    },
    "slide_helper": "subslide_end",
    "slideshow": {
     "slide_type": "slide"
    }
   },
   "outputs": [
    {
     "name": "stdout",
     "output_type": "stream",
     "text": [
      "AbstractMixtureModel          DataType\n",
      "AbstractMvNormal              DataType\n",
      "Arcsine                       DataType\n",
      "Bernoulli                     DataType\n",
      "Beta                          DataType\n",
      "BetaPrime                     DataType\n",
      "Binomial                      DataType\n",
      "Categorical                   DataType\n",
      "Cauchy                        DataType\n",
      "Chi                           DataType\n",
      "Chisq                         DataType\n",
      "Continuous                    DataType\n",
      "ContinuousDistribution        TypeConstructor\n",
      "ContinuousMatrixDistribution  DataType\n",
      "ContinuousMultivariateDistributionDataType\n",
      "ContinuousUnivariateDistributionDataType\n",
      "Cosine                        DataType\n",
      "DiagNormal                    DataType\n",
      "DiagNormalCanon               DataType\n",
      "Dirichlet                     DataType\n",
      "Discrete                      DataType\n",
      "DiscreteDistribution          TypeConstructor\n",
      "DiscreteMatrixDistribution    DataType\n",
      "DiscreteMultivariateDistributionDataType\n",
      "DiscreteUniform               DataType\n",
      "DiscreteUnivariateDistributionDataType\n",
      "Distribution                  DataType\n",
      "Distributions                 Module\n",
      "DoubleExponential             DataType\n",
      "EdgeworthMean                 DataType\n",
      "EdgeworthSum                  DataType\n",
      "EdgeworthZ                    DataType\n",
      "EmpiricalUnivariateDistributionDataType\n",
      "Erlang                        DataType\n",
      "Estimator                     DataType\n",
      "Exponential                   DataType\n",
      "FDist                         DataType\n",
      "FisherNoncentralHypergeometricDataType\n",
      "Frechet                       DataType\n",
      "FullNormal                    DataType\n",
      "FullNormalCanon               DataType\n",
      "Gamma                         DataType\n",
      "Geometric                     DataType\n",
      "Gumbel                        DataType\n",
      "Hypergeometric                DataType\n",
      "InverseGamma                  DataType\n",
      "InverseGaussian               DataType\n",
      "InverseWishart                DataType\n",
      "IsoNormal                     DataType\n",
      "IsoNormalCanon                DataType\n",
      "KSDist                        DataType\n",
      "KSOneSided                    DataType\n",
      "Kolmogorov                    DataType\n",
      "Laplace                       DataType\n",
      "Levy                          DataType\n",
      "LogNormal                     DataType\n",
      "Logistic                      DataType\n",
      "MAPEstimator                  DataType\n",
      "MLEstimator                   DataType\n",
      "MatrixDistribution            TypeConstructor\n",
      "Matrixvariate                 DataType\n",
      "MixtureModel                  DataType\n",
      "Multinomial                   DataType\n",
      "Multivariate                  DataType\n",
      "MultivariateDistribution      TypeConstructor\n",
      "MultivariateMixture           TypeConstructor\n",
      "MultivariateNormal            DataType\n",
      "MvNormal                      DataType\n",
      "MvNormalCanon                 DataType\n",
      "MvNormalKnownCov              DataType\n",
      "MvTDist                       DataType\n",
      "NegativeBinomial              DataType\n",
      "NonMatrixDistribution         UnionType\n",
      "NoncentralBeta                DataType\n",
      "NoncentralChisq               DataType\n",
      "NoncentralF                   DataType\n",
      "NoncentralHypergeometric      DataType\n",
      "NoncentralT                   DataType\n",
      "Normal                        DataType\n",
      "NormalCanon                   DataType\n",
      "NormalGamma                   DataType\n",
      "NormalInverseGamma            DataType\n",
      "NormalInverseWishart          DataType\n",
      "NormalWishart                 DataType\n",
      "Pareto                        DataType\n",
      "Poisson                       DataType\n",
      "PoissonBinomial               DataType\n",
      "QQPair                        DataType\n",
      "Rayleigh                      DataType\n",
      "RealInterval                  DataType\n",
      "Sampleable                    DataType\n",
      "Skellam                       DataType\n",
      "SufficientStats               DataType\n",
      "SymTriangularDist             DataType\n",
      "TDist                         DataType\n",
      "TriangularDist                DataType\n",
      "Truncated                     DataType\n",
      "TruncatedNormal               Function\n",
      "Uniform                       DataType\n",
      "Univariate                    DataType\n",
      "UnivariateDistribution        TypeConstructor\n",
      "UnivariateMixture             TypeConstructor\n",
      "ValueSupport                  DataType\n",
      "VariateForm                   DataType\n",
      "VonMises                      DataType\n",
      "VonMisesFisher                DataType\n",
      "WalleniusNoncentralHypergeometricDataType\n",
      "Weibull                       DataType\n",
      "Wishart                       DataType\n",
      "ZeroMeanDiagNormal            DataType\n",
      "ZeroMeanDiagNormalCanon       DataType\n",
      "ZeroMeanFullNormal            DataType\n",
      "ZeroMeanFullNormalCanon       DataType\n",
      "ZeroMeanIsoNormal             DataType\n",
      "ZeroMeanIsoNormalCanon        DataType\n",
      "binaryentropy                 Function\n",
      "canonform                     Function\n",
      "ccdf                          Function\n",
      "cdf                           Function\n",
      "cf                            Function\n",
      "circvar                       Function\n",
      "complete                      Function\n",
      "components                    Function\n",
      "concentration                 Function\n",
      "cquantile                     Function\n",
      "dim                           Function\n",
      "dof                           Function\n",
      "entropy                       Function\n",
      "estimate                      Function\n",
      "expected_logdet               Function\n",
      "failprob                      Function\n",
      "fit                           Function\n",
      "fit_map                       Function\n",
      "fit_mle                       Function\n",
      "gradlogpdf                    Function\n",
      "hasfinitesupport              Function\n",
      "insupport                     Function\n",
      "invcov                        Function\n",
      "invlogccdf                    Function\n",
      "invlogcdf                     Function\n",
      "invscale                      Function\n",
      "isbounded                     Function\n",
      "isleptokurtic                 Function\n",
      "islowerbounded                Function\n",
      "ismesokurtic                  Function\n",
      "isplatykurtic                 Function\n",
      "isprobvec                     Function\n",
      "isupperbounded                Function\n",
      "kurtosis                      Function\n",
      "location                      Function\n",
      "logccdf                       Function\n",
      "logcdf                        Function\n",
      "logdetcov                     Function\n",
      "loglikelihood                 Function\n",
      "logpdf                        Function\n",
      "logpdf!                       Function\n",
      "logpmf                        Function\n",
      "logpmf!                       Function\n",
      "mean                          Function\n",
      "meandir                       Function\n",
      "meanform                      Function\n",
      "meanlogx                      Function\n",
      "median                        Function\n",
      "mgf                           Function\n",
      "mode                          Function\n",
      "modes                         Function\n",
      "moment                        Function\n",
      "ncategories                   Function\n",
      "nsamples                      Function\n",
      "ntrials                       Function\n",
      "params                        Function\n",
      "pdf                           Function\n",
      "pmf                           Function\n",
      "posterior                     Function\n",
      "posterior_canon               Function\n",
      "posterior_mode                Function\n",
      "posterior_rand                Function\n",
      "posterior_rand!               Function\n",
      "posterior_randmodel           Function\n",
      "prior_score                   Function\n",
      "probs                         Function\n",
      "probval                       Function\n",
      "qqbuild                       Function\n",
      "quantile                      Function\n",
      "rate                          Function\n",
      "sample                        Function\n",
      "sample!                       Function\n",
      "sampler                       Function\n",
      "scale                         Function\n",
      "shape                         Function\n",
      "skewness                      Function\n",
      "span                          Function\n",
      "sqmahal                       Function\n",
      "sqmahal!                      Function\n",
      "std                           Function\n",
      "stdlogx                       Function\n",
      "succprob                      Function\n",
      "suffstats                     Function\n",
      "support                       Function\n",
      "test_distr                    Function\n",
      "test_samples                  Function\n",
      "var                           Function\n",
      "varlogx                       Function\n",
      "wsample                       Function\n",
      "wsample!                      Function\n"
     ]
    }
   ],
   "source": [
    "# Excellent Julia package for working with Probability distributions\n",
    "using Distributions\n",
    "whos(Distributions)"
   ]
  },
  {
   "cell_type": "code",
   "execution_count": 29,
   "metadata": {
    "collapsed": false,
    "internals": {
     "frag_helper": "fragment_end",
     "frag_number": 6,
     "slide_helper": "subslide_end",
     "slide_type": "subslide"
    },
    "slide_helper": "subslide_end",
    "slideshow": {
     "slide_type": "subslide"
    }
   },
   "outputs": [
    {
     "name": "stdout",
     "output_type": "stream",
     "text": [
      "[1] \"robustbase\" \"ggplot2\"    \"stats\"      \"graphics\"   \"grDevices\" \n",
      "[6] \"utils\"      \"datasets\"   \"methods\"    \"base\"      \n"
     ]
    },
    {
     "data": {
      "text/plain": [
       "plot_samples (generic function with 2 methods)"
      ]
     },
     "execution_count": 29,
     "metadata": {},
     "output_type": "execute_result"
    }
   ],
   "source": [
    "# load ggplot2\n",
    "rprint(\"library(ggplot2)\")\n",
    "\n",
    "# define Julia function to sample from a `Distribution`\n",
    "# and plot the samples usinig the `bin` stat from ggplot2\n",
    "function plot_samples(d::Distribution, n=5000)\n",
    "    s = rand(d, n)\n",
    "    rprint(rcall(:qplot, s, xlab=\"x\", stat=\"bin\", binwidth=1/10))\n",
    "end "
   ]
  },
  {
   "cell_type": "code",
   "execution_count": 30,
   "metadata": {
    "collapsed": false,
    "internals": {
     "frag_helper": "fragment_end",
     "frag_number": 6,
     "slide_helper": "subslide_end",
     "slide_type": "subslide"
    },
    "slide_helper": "subslide_end",
    "slideshow": {
     "slide_type": "subslide"
    }
   },
   "outputs": [
    {
     "data": {
      "image/png": "[encoded data removed]"
     },
     "metadata": {},
     "output_type": "display_data"
    }
   ],
   "source": [
    "# test it out\n",
    "plot_samples(Erlang())  "
   ]
  },
  {
   "cell_type": "code",
   "execution_count": 32,
   "metadata": {
    "collapsed": false,
    "internals": {
     "frag_helper": "fragment_end",
     "frag_number": 6,
     "slide_helper": "subslide_end",
     "slide_type": "subslide"
    },
    "slide_helper": "subslide_end",
    "slideshow": {
     "slide_type": "subslide"
    }
   },
   "outputs": [
    {
     "data": {
      "image/png": "[encoded data removed]"
     },
     "metadata": {},
     "output_type": "display_data"
    }
   ],
   "source": [
    "plot_samples(Rayleigh(), 10)"
   ]
  },
  {
   "cell_type": "code",
   "execution_count": 33,
   "metadata": {
    "collapsed": false,
    "internals": {
     "frag_helper": "fragment_end",
     "frag_number": 6,
     "slide_helper": "subslide_end",
     "slide_type": "subslide"
    },
    "slide_helper": "subslide_end",
    "slideshow": {
     "slide_type": "subslide"
    }
   },
   "outputs": [
    {
     "data": {
      "image/png": "[encoded data removed]"
     },
     "metadata": {},
     "output_type": "display_data"
    }
   ],
   "source": [
    "plot_samples(TriangularDist(-2, 2, 1.3)) "
   ]
  },
  {
   "cell_type": "code",
   "execution_count": 34,
   "metadata": {
    "collapsed": false,
    "internals": {
     "frag_helper": "fragment_end",
     "frag_number": 6,
     "slide_helper": "subslide_end",
     "slide_type": "subslide"
    },
    "slide_helper": "slide_end",
    "slideshow": {
     "slide_type": "subslide"
    }
   },
   "outputs": [
    {
     "data": {
      "image/png": "[encoded data removed]"
     },
     "metadata": {},
     "output_type": "display_data"
    }
   ],
   "source": [
    "plot_samples(TriangularDist(-2, 2, -1.7))"
   ]
  }
 ],
 "metadata": {
  "kernelspec": {
   "display_name": "Julia 0.4.0-dev",
   "language": "julia",
   "name": "julia 0.4"
  },
  "language_info": {
   "name": "julia",
   "version": "0.4.0"
  }
 },
 "nbformat": 4,
 "nbformat_minor": 0
}
