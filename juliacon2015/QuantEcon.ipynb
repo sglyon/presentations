{
 "cells": [
  {
   "cell_type": "markdown",
   "metadata": {
    "slideshow": {
     "slide_type": "slide"
    }
   },
   "source": [
    "![png](static/quantecon-logo-square.png)\n",
    "\n",
    "**Spencer Lyon, NYU Economics**\n",
    "\n",
    "*Date: 6-25-15*"
   ]
  },
  {
   "cell_type": "markdown",
   "metadata": {
    "slideshow": {
     "slide_type": "slide"
    }
   },
   "source": [
    "> QuantEcon is an organization run by economists for economists with the aim of coordinating distributed development of high quality open source code for all forms of quantitative economic modeling.\n",
    ">\n",
    "> -- <cite>[quantecon.org](http://quantecon.org)</cite>"
   ]
  },
  {
   "cell_type": "markdown",
   "metadata": {
    "slideshow": {
     "slide_type": "subslide"
    }
   },
   "source": [
    "\n",
    "* Coordinated by [Thomas Sargent](https://files.nyu.edu/ts43/public/) at NYU and [John Stachurski](http://johnstachurski.net) at ANU\n",
    "* Lead developers include [Chase Coleman](https://github.com/cc7768), [Spencer Lyon](https://github.com/spencerlyon2), [Matthew McKay](https://github.com/sanguineturtle), [Daisuke Oyama](http://www.oyama.e.u-tokyo.ac.jp/), [Pablo Winant](http://www.mosphere.fr/)\n",
    "* Other core contributors: [Zac Cranko](https://github.com/ZacCranko), [David Pugh](http://www.linkedin.com/in/davidrpugh)\n",
    "* QuantEcon is supported financially by the [Alfred P. Sloan Foundation](http://www.sloan.org/)"
   ]
  },
  {
   "cell_type": "markdown",
   "metadata": {
    "slideshow": {
     "slide_type": "subslide"
    }
   },
   "source": [
    "* Formally composed of two main components: \n",
    "    1. [Website](http://quant-econ.net) with over almost 40 teaching modules (textbook chapters) that teach programming and economics\n",
    "    2. Code libraries in [Python](https://github.com/QuantEcon/QuantEcon.py) and [Julia](https://github.com/QuantEcon/QuantEcon.jl)"
   ]
  },
  {
   "cell_type": "markdown",
   "metadata": {
    "collapsed": true,
    "slideshow": {
     "slide_type": "fragment"
    }
   },
   "source": [
    "* Third unofficial commitment is facilitating collaboration across communities:\n",
    "    * Government agencies: IMF, NY-FRB, Bank of England, CFPB (Consumer Finance Protection Bureau)\n",
    "    * Open source communities: Julia, scipy\n",
    "    * Academics"
   ]
  },
  {
   "cell_type": "markdown",
   "metadata": {
    "slideshow": {
     "slide_type": "slide"
    }
   },
   "source": [
    "### Website\n",
    "\n",
    "* [Demo](http://quant-econ.net)"
   ]
  },
  {
   "cell_type": "markdown",
   "metadata": {
    "slideshow": {
     "slide_type": "fragment"
    }
   },
   "source": [
    "* Additional lectures under consideration:\n",
    "    - Speculative runs on interest rate pegs\n",
    "    - Income distributions: Gini coefficients and the fall in labor’s share\n",
    "    - Simple Solow-Swan growth models, 45 degree diagrams\n",
    "    - The equity premium: theory and empirics\n",
    "    - The separating hyperplane theorem, max-min and zero sum games\n",
    "    - Competitive equilibrium: existence and optimality results\n",
    "    - Linear programming with applications to comparative advantage and trade \n",
    "    - Input-output matrices (the Leontief and VonNeumann models)\n",
    "    - Rules of conditional probability and Bayes’ Law. Static signal extraction\n",
    "    - Linear projection theory. Population and sample regressions\n",
    "    - Z transforms and their applications (compound interest, etc.)\n",
    "    - Simple Cass-Koopmans growth models (log-power production model) \n",
    "    - Random walks and martingales. First hitting time probabilities\n",
    "    - Testing independence by number of turning points\n",
    "    - Nonparametric density estimation\n",
    "    - Black-Scholes, arbitrage and the binomial price model\n",
    "    - The Rosen schooling model and the multiple occupations models\n",
    "    - The Rosen cattle-cycles model\n",
    "    - Estimating stochastic volatility models (the Cogley-Sargent model)\n",
    "    - When vectorization fails (Julia, Numba and parallelization)\n",
    "    - Brock and Hommes: Heterogeneous beliefs and asset pricing\n",
    "    - Support vector machines and forecasting\n",
    "    - The Hopenhayn entry-exit model\n",
    "    - The Ericson-Pakes industry dynamics model\n",
    "    - Coase’s theory of the firm\n",
    "    - Heavy tailed probability distributions\n",
    "    - Asset price bubbles\n",
    "    - The Hansen-Scheinkman additive and multiplicative processes\n",
    "    - Unit roots and co-integration\n",
    "    - Markov perfect equilibria\n",
    "    - Linear quadratic Stackelberg computations\n",
    "    - More optimal taxation (under construction)\n",
    "    - The Aiyagari et al. JPE 2002 incomplete markets model\n",
    "    - The Bhandari et al. heterogeneous agent incomplete markets model\n",
    "    - Time inconsistency\n",
    "    - The time-invariant Kalman filter and Muth’s JASA paper\n",
    "    - Innovations representations and factoring spectral density matrices\n",
    "    - Spectral factorization method for complete markets and aggregation\n",
    "    - Multivariate signal extraction problems and Granger-Sims causality\n",
    "    - Long-run risk models and the Kalman filter\n",
    "    - The Jovanovic-Nyarko target hitting model of development\n",
    "    - Linear quadratic economies that generalize the VonNeumann model\n",
    "    - Asset pricing and Hansen-Jagannathan bounds\n",
    "    - The costs of business cycles (Tallarini and Barillas et al.)\n",
    "    - Optimal stopping and option pricing\n",
    "    - Probability distribution of business cycle turning points\n",
    "    - Bewley models and Huggett economies\n",
    "    - “Real bills” versus “quantity theory of money” experiments\n",
    "    - The martingale convergence theorem and its applications\n",
    "    - The spectral factorization identity and duality between filtering and control \n",
    "    - Conditions for convergence and stability in LQ control and filtering\n",
    "    - Phelan-Townsend and “dynamic programming squared” problems\n",
    "    - APS style applications for the Chang model\n",
    "    - Nonlinear filtering in finite state Markov chains\n",
    "    - A finite state Markov version of Lucas-Stokey optimal tax model\n",
    "    - Stackelberg problems using the LQ setting\n",
    "    - Examples of inflation control\n",
    "    - Linear quadratic portfolio theories (efficient portfolios, Black-Litterman) \n",
    "    - Theil mixed estimation and Shiller-Leamer distributed lags\n",
    "    - The Chow Quenille trick (converting unstable systems using inversion)\n",
    "    - Use FFT’s to manipulate characteristic functions\n",
    "    - The bootstrap (intuition and applications)"
   ]
  },
  {
   "cell_type": "markdown",
   "metadata": {
    "slideshow": {
     "slide_type": "slide"
    }
   },
   "source": [
    "### Libraries\n",
    "\n",
    "- Started as teaching tools -- implementations of routines in website chapters\n",
    "- Transitioning into performance-oriented set of tools\n",
    "- Julia and Python versions both first class members, but may diverge in functionality (e.g CompEcon (more later) and `gensys` to-be-merged in Julia, but not Python)\n",
    "- Open source, community developed on GitHub"
   ]
  },
  {
   "cell_type": "markdown",
   "metadata": {
    "slideshow": {
     "slide_type": "subslide"
    }
   },
   "source": [
    "#### Library Preview\n",
    "\n",
    "- [Overview](http://quantecon.github.io/QuantEcon.jl/api/index) in documentation\n",
    "- Go to editor (time permitting)"
   ]
  },
  {
   "cell_type": "markdown",
   "metadata": {
    "slideshow": {
     "slide_type": "slide"
    }
   },
   "source": [
    "### Why Julia?\n",
    "\n",
    "With that background on the project, why Julia?\n",
    "\n",
    "* Open source\n",
    "* Natural syntax for expressing mathematical models -- e.g. linear algebra:\n",
    "\n",
    "```julia\n",
    "inv(X'X)*X'y\n",
    "```\n",
    "```python\n",
    "np.dot(np.inv(np.dot(X.T, X)), X.T.dot(y))\n",
    "```\n",
    "* Fast/parallel -- model size and complexity is increasing\n",
    "* Flexible/powerful -- can represent very generic modeling concepts and maintain performance\n",
    "    "
   ]
  },
  {
   "cell_type": "markdown",
   "metadata": {
    "slideshow": {
     "slide_type": "slide"
    }
   },
   "source": [
    "Go to [McCall model example](mccall_model.ipynb)"
   ]
  },
  {
   "cell_type": "code",
   "execution_count": null,
   "metadata": {
    "collapsed": true
   },
   "outputs": [],
   "source": []
  }
 ],
 "metadata": {
  "kernelspec": {
   "display_name": "Julia 0.4.0-dev",
   "language": "julia",
   "name": "julia-0.4"
  },
  "language_info": {
   "name": "julia",
   "version": "0.4.0"
  }
 },
 "nbformat": 4,
 "nbformat_minor": 0
}
