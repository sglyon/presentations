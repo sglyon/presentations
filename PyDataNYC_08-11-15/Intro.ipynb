{
 "cells": [
  {
   "cell_type": "markdown",
   "metadata": {
    "slideshow": {
     "slide_type": "slide"
    }
   },
   "source": [
    "## QuantEcon: Economics Meets Open Source\n",
    "\n",
    "**Spencer Lyon, NYU Stern Economics**\n",
    "\n",
    "*Date: 8-11-15*"
   ]
  },
  {
   "cell_type": "markdown",
   "metadata": {
    "slideshow": {
     "slide_type": "slide"
    }
   },
   "source": [
    "## Outline\n",
    "\n",
    "- Bio\n",
    "- [QuantEcon](http://quantecon.org)\n",
    "    - Intro/Vision\n",
    "    - Example\n",
    "- [Julia](http://julialang.org)\n",
    "    - Intro\n",
    "    - Code introspection\n",
    "    - Metaprogramming\n",
    "    - Data representations\n"
   ]
  },
  {
   "cell_type": "markdown",
   "metadata": {
    "slideshow": {
     "slide_type": "slide"
    }
   },
   "source": [
    "## Bio\n",
    "\n",
    "- Between years 2-3 of economics PhD program at NYU\n",
    "- Live in NYC with wife and two (+26/40) kids\n",
    "- Physics/economics undergrad from BYU\n",
    "- Programming: Mathematica -> Python -> Julia, with others (Haskell, Scala, R, Matlab, C, C++...) sprinkled in"
   ]
  },
  {
   "cell_type": "markdown",
   "metadata": {
    "slideshow": {
     "slide_type": "slide"
    }
   },
   "source": [
    "Move to [QuantEcon](QuantEcon.ipynb) slides"
   ]
  },
  {
   "cell_type": "code",
   "execution_count": null,
   "metadata": {
    "collapsed": true
   },
   "outputs": [],
   "source": []
  }
 ],
 "metadata": {
  "kernelspec": {
   "display_name": "Python 2",
   "language": "python",
   "name": "python2"
  },
  "language_info": {
   "codemirror_mode": {
    "name": "ipython",
    "version": 2
   },
   "file_extension": ".py",
   "mimetype": "text/x-python",
   "name": "python",
   "nbconvert_exporter": "python",
   "pygments_lexer": "ipython2",
   "version": "2.7.10"
  }
 },
 "nbformat": 4,
 "nbformat_minor": 0
}
