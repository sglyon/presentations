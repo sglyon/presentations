{
 "cells": [
  {
   "cell_type": "markdown",
   "metadata": {
    "internals": {
     "slide_helper": "subslide_end",
     "slide_type": "subslide"
    },
    "slide_helper": "slide_end",
    "slideshow": {
     "slide_type": "slide"
    }
   },
   "source": [
    "## IterationManagers\n",
    "\n",
    "**Spencer Lyon**\n",
    "\n",
    "*Date: 4-23-15* n   "
   ]
  },
  {
   "cell_type": "markdown",
   "metadata": {
    "internals": {
     "slide_helper": "subslide_end",
     "slide_type": "subslide"
    },
    "slide_helper": "slide_end",
    "slideshow": {
     "slide_type": "slide"
    }
   },
   "source": [
    "## Intro\n",
    "\n",
    "Many economics problems feature iterative algorithms:\n",
    "\n",
    "- Value function iteration (fixed point iteration)\n",
    "- Optimization/root finding\n",
    "- Estimation: MCMC, Generalized Method of Moments (see below)\n"
   ]
  },
  {
   "cell_type": "markdown",
   "metadata": {
    "internals": {
     "slide_type": "subslide"
    },
    "slideshow": {
     "slide_type": "slide"
    }
   },
   "source": [
    "### Example: Newton's method\n",
    "\n",
    "Most of these tasks share a common structure. \n",
    "\n",
    "To see the structure, consider this simple implementation of newton's method to find the maxima of a function (or, equivalently the root of its derivative):"
   ]
  },
  {
   "cell_type": "code",
   "execution_count": 1,
   "metadata": {
    "collapsed": false,
    "internals": {
     "frag_number": 3,
     "slide_helper": "subslide_end"
    },
    "slide_helper": "subslide_end",
    "slideshow": {
     "slide_type": "fragment"
    }
   },
   "outputs": [
    {
     "data": {
      "text/plain": [
       "newton (generic function with 1 method)"
      ]
     },
     "execution_count": 1,
     "metadata": {},
     "output_type": "execute_result"
    }
   ],
   "source": [
    "function newton(fp::Function, fpp::Function, init; tol::Float64=1e-12,\n",
    "                 maxiter::Int=500, verbose::Bool=true, print_skip::Int=5)\n",
    "    # Stage 1: Setup\n",
    "    x = copy(init)\n",
    "    dist = 1.\n",
    "    iter = 0\n",
    "    elapsed = 0.0\n",
    "    old_time = time()\n",
    "\n",
    "    while dist > tol && iter < maxiter\n",
    "        # Stage 2: Iteration\n",
    "        x_new = x - fpp(x) \\ fp(x) \n",
    "\n",
    "        # Stage 3: Between iteration processing\n",
    "        dist = maxabs(x - x_new)\n",
    "        iter += 1\n",
    "        new_time = time()\n",
    "        elapsed += new_time - old_time\n",
    "\n",
    "        if verbose && iter % print_skip == 0\n",
    "            println(\"Iteration: $iter\\t dist: $(round(dist, 4))\\t elapsed: $(elapsed)\")\n",
    "        end\n",
    "\n",
    "        x = copy(x_new)\n",
    "        old_time = new_time\n",
    "    end\n",
    "\n",
    "    # Stage 4: post iteration processing\n",
    "    if verbose\n",
    "        if iter >= maxiter\n",
    "            warn(\"failed to converge in $maxiter iterations\")\n",
    "        else\n",
    "            println(\"Converged successful ly after $iter iterations\")\n",
    "        end\n",
    "    end\n",
    "    x\n",
    "end"
   ]
  },
  {
   "cell_type": "markdown",
   "metadata": {
    "internals": {
     "frag_helper": "fragment_end",
     "frag_number": 3,
     "slide_type": "subslide"
    },
    "slideshow": {
     "slide_type": "subslide"
    }
   },
   "source": [
    "The core part of this algorithm is on line 12 where we compute `x_new - fpp(x) \\ fp(x)`. \n",
    "\n",
    "But, what the code actually does is not important to our discussion; we just care about its structure. Notice that there are 4 main sections (stages) of the code:\n",
    "\n",
    "1. Setup\n",
    "2. Iteration\n",
    "3. Between iteration processing\n",
    "4. Post iteration processing"
   ]
  },
  {
   "cell_type": "markdown",
   "metadata": {
    "internals": {
     "frag_helper": "fragment_end",
     "frag_number": 5,
     "slide_helper": "subslide_end"
    },
    "slide_helper": "subslide_end",
    "slideshow": {
     "slide_type": "fragment"
    }
   },
   "source": [
    "Almost all the iterative algorithms I have ever written have either this exact structure, or a subset of it (not all algorithms need a post-iteration step, for example). "
   ]
  },
  {
   "cell_type": "markdown",
   "metadata": {
    "internals": {
     "frag_helper": "fragment_end",
     "frag_number": 5,
     "slide_type": "subslide"
    },
    "slideshow": {
     "slide_type": "subslide"
    }
   },
   "source": [
    "Given that this structure is so common, we should be able to automate it and remove some boiler-plate. Well, it turns out that we can! \n",
    "\n",
    "Consider another version of the `newton` function from above:"
   ]
  },
  {
   "cell_type": "code",
   "execution_count": 2,
   "metadata": {
    "collapsed": false,
    "internals": {
     "frag_helper": "fragment_end",
     "frag_number": 7,
     "slide_helper": "subslide_end"
    },
    "slide_helper": "subslide_end",
    "slideshow": {
     "slide_type": "fragment"
    }
   },
   "outputs": [
    {
     "data": {
      "text/plain": [
       "newton2 (generic function with 1 method)"
      ]
     },
     "execution_count": 2,
     "metadata": {},
     "output_type": "execute_result"
    }
   ],
   "source": [
    "using IterationManagers\n",
    "\n",
    "function newton2(fp::Function, fpp::Function, init; tol::Float64=1e-12,\n",
    "                 maxiter::Int=500, verbose::Bool=true, print_skip::Int=5)\n",
    "    # setup manager and state\n",
    "    mgr = DefaultManager(tol, maxiter, verbose, print_skip)\n",
    "    istate = DefaultState(init)\n",
    "    \n",
    "    # define function to produce next iterate  \n",
    "    newton_step(x) =  x - fpp(x) \\ fp(x)\n",
    "                                                                                                                                                                                                                                                                                                                                                                                                                                                                                                                                                                                                                                                                                                                                                                                                                                                                                                                                                                                                                                                                                                                                                                                                                                                                                                                                                                                                                                                                                                                                                                                                                                                                                                                                                                                                                                                                                                                                                                                                  \n",
    "    # stages 2, 3, 4 in one shot!\n",
    "    managed_iteration(newton_step, mgr, istate)\n",
    "end"
   ]
  },
  {
   "cell_type": "markdown",
   "metadata": {
    "internals": {
     "frag_helper": "fragment_end",
     "frag_number": 7,
     "slide_type": "subslide"
    },
    "slideshow": {
     "slide_type": "subslide"
    }
   },
   "source": [
    "In this function we take the same arguments and use them to construct an instance of `DefaultManager` and `DefaultState`. \n",
    "\n",
    "We then write a function to take the current \"state\" of the iterations (`x`) and produce the next iterate -- this is the `newton_step` function.\n",
    "\n",
    "We then call the `managed_iteration` function, which has the following signature:\n",
    "\n",
    "```julia\n",
    "managed_iteration(f::Function, mgr::IterationManager, istate::IterationState; by::Function=default_by)\n",
    "```\n",
    "\n",
    "The `managed_iteration` function will do all the same pre-mid- and post-processing that we did by hand in the original version of `newton`."
   ]
  },
  {
   "cell_type": "markdown",
   "metadata": {
    "internals": {
     "frag_helper": "fragment_end",
     "frag_number": 7,
     "slide_helper": "subslide_end"
    },
    "slide_helper": "subslide_end",
    "slideshow": {
     "slide_type": "notes"
    }
   },
   "source": [
    "I wish to point out that we could also write a one-line version of newton's method using a special keyword argument version of `managed_iteration` that constructs the manager and state automatically and by leveraging Julia's [do block syntax](http://julia.readthedocs.org/en/latest/manual/functions/#do-block-syntax-for-function-arguments):"
   ]
  },
  {
   "cell_type": "markdown",
   "metadata": {
    "internals": {
     "frag_helper": "fragment_end",
     "frag_number": 7,
     "slide_type": "subslide"
    },
    "slideshow": {
     "slide_type": "subslide"
    }
   },
   "source": [
    "I wish to point out that we could have impleneted a one-line version this function using a special method of `managed_iteration` that constructs the `IterationManager` and `DefaultState` for us and passing an anonymous function as the first argument"
   ]
  },
  {
   "cell_type": "code",
   "execution_count": 3,
   "metadata": {
    "collapsed": false,
    "internals": {
     "frag_helper": "fragment_end",
     "frag_number": 11,
     "slide_helper": "subslide_end"
    },
    "slide_helper": "subslide_end",
    "slideshow": {
     "slide_type": "fragment"
    }
   },
   "outputs": [
    {
     "data": {
      "text/plain": [
       "newton3 (generic function with 1 method)"
      ]
     },
     "execution_count": 3,
     "metadata": {},
     "output_type": "execute_result"
    }
   ],
   "source": [
    "function newton3(fp::Function, fpp::Function, init; tol::Float64=1e-12,\n",
    "                 maxiter::Int=500, verbose::Bool=true, print_skip::Int=5)\n",
    "    # all four stages in one!\n",
    "    managed_iteration(x->x-fpp(x)\\fp(x), init; tol=tol, maxiter=maxiter, \n",
    "                      print_skip=print_skip, verbose=verbose)\n",
    "end"
   ]
  },
  {
   "cell_type": "markdown",
   "metadata": {
    "internals": {
     "frag_helper": "fragment_end",
     "frag_number": 11,
     "slide_type": "subslide"
    },
    "slideshow": {
     "slide_type": "subslide"
    }
   },
   "source": [
    "Let's do a quick test of our functions and then see how IterationManagers is implemented"
   ]
  },
  {
   "cell_type": "code",
   "execution_count": 4,
   "metadata": {
    "collapsed": false,
    "internals": {
     "frag_helper": "fragment_end",
     "frag_number": 13
    },
    "slideshow": {
     "slide_type": "fragment"
    }
   },
   "outputs": [
    {
     "data": {
      "text/plain": [
       "rosenbrock_hessian (generic function with 1 method)"
      ]
     },
     "execution_count": 4,
     "metadata": {},
     "output_type": "execute_result"
    }
   ],
   "source": [
    "# let's test this out\n",
    "rosenbrock(x::Vector) = (1.0 - x[1])^2 + 100.0 * (x[2] - x[1]^2)^2\n",
    "\n",
    "function rosenbrock_gradient(x::Vector)\n",
    "    out = similar(x)\n",
    "    out[1] = -2.0 * (1.0 - x[1]) - 400.0 * (x[2] - x[1]^2) * x[1]\n",
    "    out[2] = 200.0 * (x[2] - x[1]^2)\n",
    "    out\n",
    "end\n",
    "\n",
    "function rosenbrock_hessian(x::Vector)\n",
    "    out = Array(Float64, length(x), length(x))\n",
    "    out[1, 1] = 2.0 - 400.0 * x[2] + 1200.0 * x[1]^2\n",
    "    out[1, 2] = -400.0 * x[1]\n",
    "    out[2, 1] = -400.0 * x[1]\n",
    "    out[2, 2] = 200.0\n",
    "    return out\n",
    "end\n",
    "const f = rosenbrock\n",
    "const fp = rosenbrock_gradient\n",
    "const fpp = rosenbrock_hessian"
   ]
  },
  {
   "cell_type": "code",
   "execution_count": 5,
   "metadata": {
    "collapsed": false,
    "internals": {
     "frag_helper": "fragment_end",
     "frag_number": 14
    },
    "slideshow": {
     "slide_type": "fragment"
    }
   },
   "outputs": [
    {
     "name": "stdout",
     "output_type": "stream",
     "text": [
      "Iteration: 1\t dist: 2449.99\t elapsed: 1.2602849006652832\n",
      "Iteration: 2\t dist: 4899.9704\t elapsed: 1.6795709133148193\n",
      "Iteration: 3\t dist: 2400.9806\t elapsed: 1.679621934890747\n",
      "Iteration: 4\t dist: 0.0002\t elapsed: 1.67964506149292\n",
      "Iteration: 5\t dist: 0.0\t elapsed: 1.6796679496765137\n",
      "Iteration: 6\t dist: 0.0\t elapsed: 1.6796901226043701\n",
      "Converged successfully after 6 iterations\n"
     ]
    },
    {
     "data": {
      "text/plain": [
       "2-element Array{Float64,1}:\n",
       " 1.0\n",
       " 1.0"
      ]
     },
     "execution_count": 5,
     "metadata": {},
     "output_type": "execute_result"
    }
   ],
   "source": [
    "opt_x = newton(fp, fpp, fill(50.0, 2); print_skip=1)"
   ]
  },
  {
   "cell_type": "code",
   "execution_count": 6,
   "metadata": {
    "collapsed": false,
    "internals": {
     "frag_helper": "fragment_end",
     "frag_number": 15
    },
    "slideshow": {
     "slide_type": "fragment"
    }
   },
   "outputs": [
    {
     "data": {
      "text/plain": [
       "0.0"
      ]
     },
     "execution_count": 6,
     "metadata": {},
     "output_type": "execute_result"
    }
   ],
   "source": [
    "f(opt_x)"
   ]
  },
  {
   "cell_type": "code",
   "execution_count": 7,
   "metadata": {
    "collapsed": false,
    "internals": {
     "frag_helper": "fragment_end",
     "frag_number": 16,
     "slide_helper": "subslide_end"
    },
    "slide_helper": "slide_end",
    "slideshow": {
     "slide_type": "fragment"
    }
   },
   "outputs": [
    {
     "name": "stdout",
     "output_type": "stream",
     "text": [
      "Iteration    Distance       Elapsed (seconds)\n",
      "---------------------------------------------\n",
      "1            2.44999e+03    0.35528           \n",
      "2            4.89997e+03    0.50673           \n",
      "3            2.40098e+03    0.50710           \n",
      "4            1.95988e-04    0.50744           \n",
      "5            9.60096e-09    0.50778           \n",
      "6            0.00000e+00    0.50811           \n",
      "Iteration    Distance       Elapsed (seconds)\n",
      "---------------------------------------------\n",
      "1            2.44999e+03    0.01630           \n",
      "2            4.89997e+03    0.01672           \n",
      "3            2.40098e+03    0.01708           \n",
      "4            1.95988e-04    0.01744           \n",
      "5            9.60096e-09    0.01779           \n",
      "6            0.00000e+00    0.01814           \n"
     ]
    },
    {
     "data": {
      "text/plain": [
       "(true,true)"
      ]
     },
     "execution_count": 7,
     "metadata": {},
     "output_type": "execute_result"
    }
   ],
   "source": [
    "opt_x2 = newton2(fp, fpp, fill(50.0, 2); print_skip=1).prev\n",
    "opt_x3 = newton 3(fp, fpp, fill(50.0, 2); print_skip=1).prev\n",
    "\n",
    "# check that we did indeed get the same answer\n",
    "map(x->maxabs(opt_x - x) <= eps(), (opt_x2, opt_x3))"
   ]
  },
  {
   "cell_type": "markdown",
   "metadata": {
    "internals": {
     "frag_helper": "fragment_end",
     "frag_number": 16,
     "slide_helper": "subslide_end",
     "slide_type": "subslide"
    },
    "slide_helper": "slide_end",
    "slideshow": {
     "slide_type": "slide"
    }
   },
   "source": [
    "### Implementation\n",
    "\n",
    "Live-demo, or see [package repo on github](https://github.com/spencerlyon2/IterationManagers.jl/tree/master)"
   ]
  },
  {
   "cell_type": "markdown",
   "metadata": {
    "internals": {
     "frag_helper": "fragment_end",
     "frag_number": 16,
     "slide_type": "subslide"
    },
    "slideshow": {
     "slide_type": "slide"
    }
   },
   "source": [
    "### Example: GMM"
   ]
  },
  {
   "cell_type": "markdown",
   "metadata": {
    "internals": {
     "frag_helper": "fragment_end",
     "frag_number": 19,
     "slide_helper": "subslide_end"
    },
    "slide_helper": "subslide_end",
    "slideshow": {
     "slide_type": "fragment"
    }
   },
   "source": [
    "Generalized method of moments (GMM) is a common and powerful econometric technique for estimating the parameters of a statistical model.\n",
    "\n",
    "It does not require distributional assumptions, only that certain moment conditions be satisfied by the parameter estimates.\n",
    "\n",
    "Moment conditions can come from anywhere, but in economic models they are often given by first order necessary conditions for some optimizing agent."
   ]
  },
  {
   "cell_type": "markdown",
   "metadata": {
    "internals": {
     "frag_helper": "fragment_end",
     "frag_number": 19,
     "slide_helper": "subslide_end",
     "slide_type": "subslide"
    },
    "slide_helper": "subslide_end",
    "slideshow": {
     "slide_type": "subslide"
    }
   },
   "source": [
    "#### Basic theory\n",
    "\n",
    "Suppose you have $T$ observations of data $\\left\\{Y_t \\right\\}_{t=1}^T$, where $\\forall t, Y_t \\in \\mathbb{R}^n$.\n",
    "\n",
    "Assume the data is generated by a statistical model, indexed by a vector of parameters $\\theta \\in \\Theta \\subset \\mathbb{R}^k$."
   ]
  },
  {
   "cell_type": "markdown",
   "metadata": {
    "internals": {
     "frag_helper": "fragment_end",
     "frag_number": 19,
     "slide_helper": "subslide_end",
     "slide_type": "subslide"
    },
    "slide_helper": "subslide_end",
    "slideshow": {
     "slide_type": "subslide"
    }
   },
   "source": [
    "Let $g: \\mathbb{R}^n \\times \\mathbb{R}^k \\rightarrow \\mathbb{R}$ be a function of moment conditions, such that \n",
    "\n",
    "$$m(\\theta^*) \\equiv E \\left[g(Y_t, \\theta^*) \\right] = 0$$\n",
    "\n",
    "Given the data $\\left\\{Y_t \\right\\}_{t=1}^T$ and a potential parameter vector $\\theta$, we can construct sample moments:\n",
    "\n",
    "$$\\hat{m}(\\theta) \\equiv \\frac{1}{T} \\sum_{t=1}^T g(Y_t, \\theta)$$"
   ]
  },
  {
   "cell_type": "markdown",
   "metadata": {
    "internals": {
     "frag_helper": "fragment_end",
     "frag_number": 19,
     "slide_helper": "subslide_end",
     "slide_type": "subslide"
    },
    "slide_helper": "subslide_end",
    "slideshow": {
     "slide_type": "subslide"
    }
   },
   "source": [
    "We choose an optimal estimate of the parametes vector, $\\hat{\\theta}$, that minimizes the GMM criterion:\n",
    "\n",
    "\n",
    "$$\\hat{\\theta} \\equiv \\text{argmin}_{\\theta \\in \\Theta} \\hat{m}(\\theta)' W \\hat{m}(\\theta),$$\n",
    "\n",
    "where $W$ is a positive definite weighting matrix."
   ]
  },
  {
   "cell_type": "markdown",
   "metadata": {
    "internals": {
     "frag_helper": "fragment_end",
     "frag_number": 19,
     "slide_type": "subslide"
    },
    "slideshow": {
     "slide_type": "subslide"
    }
   },
   "source": [
    "#### Algorithm\n",
    "\n",
    "There are many variants of algorithms used to produce estimates $\\hat{\\theta}$."
   ]
  },
  {
   "cell_type": "markdown",
   "metadata": {
    "internals": {
     "frag_helper": "fragment_end",
     "frag_number": 24
    },
    "slideshow": {
     "slide_type": "fragment"
    }
   },
   "source": [
    "Three of them are the most common:\n",
    "\n",
    "(1)   One-step GMM: use $W = I$ and minimize the GMM criterion"
   ]
  },
  {
   "cell_type": "markdown",
   "metadata": {
    "internals": {
     "frag_helper": "fragment_end",
     "frag_number": 25
    },
    "slideshow": {
     "slide_type": "fragment"
    }
   },
   "source": [
    "(2) Two-step GMM: use $W = I$ to obtain $\\hat{\\theta}_1$, then set $W_1 = H(\\theta_1) \\equiv \\text{Cov}(\\hat{\\theta}_1)^{-1}$ to obtain final $\\hat{\\theta}$ ($W_1$ has been proven to be the \"optimal\" $W$ in terms of efficiency)"
   ]
  },
  {
   "cell_type": "markdown",
   "metadata": {
    "internals": {
     "frag_helper": "fragment_end",
     "frag_number": 26,
     "slide_helper": "subslide_end"
    },
    "slide_helper": "subslide_end",
    "slideshow": {
     "slide_type": "fragment"
    }
   },
   "source": [
    "(3) Iterative GMM: Fix a small tolerance level $\\epsilon$, choose initial guess $\\theta_0$, , let $i=1$,and set $W_0 = I$. At step $i$\n",
    "\n",
    "1. Use $W_{i-1}$ to obtain $\\hat{\\theta}_i$\n",
    "2. Compute then $W_i = H(\\hat{\\theta}_i)$ \n",
    "3. Check if $||\\hat{\\theta}_i - \\hat{\\theta}_{i-1}||<\\epsilon$. if so, stop $\\hat{\\theta}_i$ is solution, otherwise return to step A"
   ]
  },
  {
   "cell_type": "markdown",
   "metadata": {
    "internals": {
     "frag_helper": "fragment_end",
     "frag_number": 26,
     "slide_helper": "subslide_end",
     "slide_type": "subslide"
    },
    "slide_helper": "subslide_end",
    "slideshow": {
     "slide_type": "subslide"
    }
   },
   "source": [
    "#### Implementation\n",
    "\n",
    "We can leverage `IterationManagers` to write a single version of a `gmm` routine, where the algorithm that is used dependso on which `T <: IterationManger` is used."
   ]
  },
  {
   "cell_type": "markdown",
   "metadata": {
    "internals": {
     "frag_helper": "fragment_end",
     "frag_number": 26,
     "slide_type": "subslide"
    },
    "slideshow": {
     "slide_type": "subslide"
    }
   },
   "source": [
    "##### Managers\n",
    "\n",
    "First, let's implement the three managers (note each has a field `k` specifying how the covariance matrix should be computed within the function $H$ above)\n",
    "\n",
    "```julia\n",
    "using IterationManagers\n",
    "import CovarianceMatrices.RobustVariance\n",
    "\n",
    "immutable OneStepGMM <: IterationManager\n",
    "    k::RobustVariance\n",
    "end\n",
    "\n",
    "OneStepGMM(k::RobustVariance=HC0()) = OneStepGMM(k)\n",
    "\n",
    "immutable TwoStepGMM <: IterationManager\n",
    "    k::RobustVariance\n",
    "end\n",
    "\n",
    "TwoStepGMM(k::RobustVariance=HC0()) = TwoStepGMM(k)\n",
    "\n",
    "immutable IterativeGMM <: IterationManager\n",
    "    k::RobustVariance\n",
    "    tol::Float64\n",
    "    maxiter::Int\n",
    "end\n",
    "\n",
    "function IterativeGMM(k::RobustVariance=HC0(), tol::Float64=1e-12,\n",
    "                       maxiter::Int=500)\n",
    "    IterativeGMM(k, tol, maxiter)\n",
    "end\n",
    "\n",
    "# note, we can use the DefaultState here\n",
    "finished(::OneStepGMM, ist::DefaultState) = ist.n >= 1\n",
    "finished(::TwoStepGMM, ist::DefaultState) = ist.n >= 2\n",
    "function finished(mgr::IterativeGMM, ist::DefaultState)\n",
    "    ist.n > mgr.maxiter || abs(ist.change) <= mgr.tol\n",
    "end\n",
    "```"
   ]
  },
  {
   "cell_type": "markdown",
   "metadata": {
    "internals": {
     "frag_helper": "fragment_end",
     "frag_number": 26
    },
    "slideshow": {
     "slide_type": "-"
    }
   },
   "source": [
    "##### Core algorithm\n",
    "\n",
    "Suppose we have the following functions defined:\n",
    "\n",
    "- `moment_func::Function` is our moment function $g$ from above\n",
    "- `optimal_w(mf::Function, θ::Vector, k::RobustCovariance)` is $H$ from above\n",
    "- `minimize_crit(mf::Function, W::Matrix)` gets $\\hat{\\theta}$, given $g$, $W$\n",
    "\n",
    "(NOTE: These functions are defined as closures in the main `gmm` routine to pass the data ($Y_t$) to `moment_func` just once)\n",
    "\n",
    "Now, the core iterative part of algorithm can be written as follows:\n",
    "\n",
    "```julia\n",
    "# mgr and istate either constructed above or passed as function arguments\n",
    "managed_iteration(mgr, istate) do θ\n",
    "    W = optimal_W(moment_func, θ, istate.k)\n",
    "    minimize_crit(momoent_func, W)  # new theta\n",
    "end\n",
    "```"
   ]
  },
  {
   "cell_type": "markdown",
   "metadata": {
    "internals": {
     "frag_helper": "fragment_end",
     "frag_number": 26,
     "slide_helper": "subslide_end"
    },
    "slide_helper": "slide_end",
    "slideshow": {
     "slide_type": "-"
    }
   },
   "source": [
    "#### Comments\n",
    "\n",
    "Using this functional style combined with multiple dispatch allows us focus on the actual algoirthm, instead of worrying about \"accounting\" deatails like managing the state (keeping track of $\\theta_i$ and $\\theta_{i-1}$) or updating the user (printing status updates).\n",
    "\n",
    "This not only made the code shorter (easier to maintain), but helped us think in a more modular way and focus on what makes this specific problem different than other iterative algorithms"
   ]
  }
 ],
 "metadata": {
  "kernelspec": {
   "display_name": "Julia 0.4.0-dev",
   "language": "julia",
   "name": "julia 0.4"
  },
  "language_info": {
   "name": "julia",
   "version": "0.4.0"
  }
 },
 "nbformat": 4,
 "nbformat_minor": 0
}
