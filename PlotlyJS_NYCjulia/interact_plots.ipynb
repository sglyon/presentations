{
 "cells": [
  {
   "cell_type": "code",
   "execution_count": null,
   "metadata": {
    "collapsed": false
   },
   "outputs": [],
   "source": [
    "using PlotlyJS, Interact"
   ]
  },
  {
   "cell_type": "code",
   "execution_count": null,
   "metadata": {
    "collapsed": false
   },
   "outputs": [],
   "source": [
    "@manipulate for n=5:30\n",
    "    plot(scatter(x=1:n, y=cumsum(randn(n))))\n",
    "end"
   ]
  },
  {
   "cell_type": "code",
   "execution_count": null,
   "metadata": {
    "collapsed": false
   },
   "outputs": [],
   "source": [
    "# more efficient to use api methods and do partial updates\n",
    "p = plot([scatter(x=1:30, y=cumsum(randn(30))),\n",
    "          scatter(x=1:30, y=cumsum(randn(30)), mode=\"markers\")])\n",
    "display(p)\n",
    "lw1 = widget(2:10, \"lw1\")\n",
    "ms2 = widget(10:40, \"ms2\")\n",
    "display(lw1)\n",
    "display(ms2)"
   ]
  },
  {
   "cell_type": "code",
   "execution_count": null,
   "metadata": {
    "collapsed": false
   },
   "outputs": [],
   "source": [
    "map(x->restyle!(p, 2, marker_size=x), signal(ms2))"
   ]
  },
  {
   "cell_type": "code",
   "execution_count": null,
   "metadata": {
    "collapsed": false
   },
   "outputs": [],
   "source": [
    "map(x->restyle!(p, 1, line_width=x), signal(lw1))"
   ]
  }
 ],
 "metadata": {
  "kernelspec": {
   "display_name": "Julia 0.4.3-pre",
   "language": "julia",
   "name": "julia-0.4"
  },
  "language_info": {
   "file_extension": ".jl",
   "mimetype": "application/julia",
   "name": "julia",
   "version": "0.4.3"
  }
 },
 "nbformat": 4,
 "nbformat_minor": 0
}
