{
 "cells": [
  {
   "cell_type": "markdown",
   "metadata": {},
   "source": [
    "\n",
    "Topics I might want to cover:\n",
    "\n",
    "* Personal intro\n",
    "    * Econ PhD (NYU) with physics background\n",
    "    * Interested in asset pricing within macro finance models\n",
    "    * Love programming\n",
    "* QuantEcon\n",
    "    * 3 things: (1) lectures (2) libraries (3) communit\n",
    "    * Usage examples\n",
    "        * Tools: \n",
    "        * Models: Growth model?\n",
    "    * My Role\n",
    "        * The Julia dev\n",
    "        * Core python dev\n",
    "        * Draft/revise new lectures\n",
    "* Other work\n",
    "    * dvfi\n",
    "        * Common problem in econ: solve a recursive functional equation by iterating on discretized version of funciton until you find a fixed point. \n",
    "        * Problem: slow... Would like to parallelize\n",
    "        * Example of theory behind proving growthmodel bellman equation is contraction\n",
    "    * Cogley Sargent 2014\n",
    "        * Examining *instability* and *uncertainty* in US price level from 1850-2014\n",
    "        * Use nonlinear state space model and custom Gibbs sampler\n",
    "    * [distcan](https://github.com/spencerlyon2/distcan)\n",
    "        * Probability **dist**ributions in their **can**onical form for Python\n",
    "\n",
    "\n",
    "Organinzing\n",
    "\n",
    "* Main noteobook (links to notebooks):\n",
    "    * About me\n",
    "    * QuantEcon\n",
    "    * dvfi\n",
    "    * Cogley sargent\n",
    "    * distc"
   ]
  },
  {
   "cell_type": "code",
   "execution_count": null,
   "metadata": {
    "collapsed": true
   },
   "outputs": [],
   "source": []
  }
 ],
 "metadata": {
  "kernelspec": {
   "display_name": "Python 2",
   "language": "python",
   "name": "python2"
  },
  "language_info": {
   "codemirror_mode": {
    "name": "ipython",
    "version": 2
   },
   "file_extension": ".py",
   "mimetype": "text/x-python",
   "name": "python",
   "nbconvert_exporter": "python",
   "pygments_lexer": "ipython2",
   "version": "2.7.9"
  }
 },
 "nbformat": 4,
 "nbformat_minor": 0
}
